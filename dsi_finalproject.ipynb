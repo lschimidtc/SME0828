{
  "cells": [
    {
      "cell_type": "markdown",
      "metadata": {
        "id": "fWBxmPq95Q3A"
      },
      "source": [
        "## **SME0828 - Introdução à Ciência de Dados**\n",
        "### **Projeto Final**\n"
      ]
    },
    {
      "cell_type": "markdown",
      "metadata": {
        "id": "7S3k4xLz4eT5"
      },
      "source": [
        "## **1. Introdução**"
      ]
    },
    {
      "cell_type": "markdown",
      "metadata": {
        "id": "Cyl2RlpZJPzn"
      },
      "source": [
        "- **Detecção de fraude em pagamentos online**\n",
        "\n",
        "Nosso objetivo é identificar fraude em pagamentos online, para isso iremos treinar modelos para classificação de pagamentos em fraudulentos e não fraudulentos. Iremos testar vários classificadores distintos e concluir com base no mais eficiente dentre eles.\n",
        "\n",
        "Iremos utilizar o seguinte *dataset* do *Kaggle*:\n",
        "https://www.kaggle.com/datasets/rupakroy/online-payments-fraud-detection-dataset, contendo informação sobre fraude em pagamentos online, de forma que verificamos quais tipos de transações levam à fraude.\n",
        "\n",
        "Os dados contém informação histórica sobre transações fraudulentas que podem ser utilizadas para gerar os classificadores.\n",
        "\n",
        "Seguem as definições de cada atributo do *dataset*:\n",
        "\n",
        "\n",
        "    step: representa a unidade de tempo, onde 1 step é igual a 1 hora \n",
        "    type: tipo de pagamento feito online \n",
        "    amount: a quantidade usada no pagamento\n",
        "    nameOrig: cliente inicia o pagamento \n",
        "    oldbalanceOrg: receita do cliente antes do pagamento \n",
        "    newbalanceOrig: receita do cliente após o pagamento\n",
        "    nameDest: destino do pagamento\n",
        "    oldbalanceDest: receita inicial do destino do pagamento \n",
        "    newbalanceDest: receita final do destino após o pagamento \n",
        "    isFraud: pagamento fraudulento\n",
        "\n"
      ]
    },
    {
      "cell_type": "markdown",
      "metadata": {
        "id": "TCYJ4wmcJxoG"
      },
      "source": [
        "## **2. Preparação e transformação dos dados**"
      ]
    },
    {
      "cell_type": "code",
      "execution_count": null,
      "metadata": {
        "id": "71BaiXz-_j9H"
      },
      "outputs": [],
      "source": [
        "# Bibliotecas utilizadas\n",
        "import random\n",
        "\n",
        "import pandas as pd\n",
        "import numpy as np\n",
        "import seaborn as sns\n",
        "import matplotlib.pyplot as plt\n",
        "import sklearn.datasets as skdata\n",
        "from pandas import DataFrame\n",
        "from matplotlib import pyplot\n",
        "\n",
        "from mlxtend.plotting import plot_decision_regions\n",
        "from sklearn.preprocessing import StandardScaler\n",
        "from sklearn.metrics import accuracy_score\n",
        "from sklearn.linear_model import LogisticRegression\n",
        "from sklearn.neighbors import KNeighborsClassifier\n",
        "from sklearn.tree import DecisionTreeClassifier\n",
        "from mlxtend.plotting import plot_decision_regions\n",
        "from sklearn.naive_bayes import GaussianNB\n",
        "from sklearn import metrics\n",
        "from sklearn import datasets\n",
        "from sklearn.model_selection import train_test_split\n",
        "from sklearn.model_selection import cross_validate\n",
        "from sklearn.metrics import confusion_matrix\n",
        "from sklearn.metrics import ConfusionMatrixDisplay\n",
        "from sklearn.metrics import classification_report\n",
        "from sklearn.ensemble import RandomForestClassifier\n",
        "from sklearn.ensemble import HistGradientBoostingClassifier\n",
        "from sklearn.metrics import roc_curve, auc\n",
        "\n",
        "import warnings\n",
        "warnings.filterwarnings(\"ignore\", category=DeprecationWarning)\n",
        "%matplotlib inline"
      ]
    },
    {
      "cell_type": "code",
      "execution_count": null,
      "metadata": {
        "colab": {
          "base_uri": "https://localhost:8080/"
        },
        "id": "I_mOSNqEQds4",
        "outputId": "cb07c5f7-a2ac-4a11-8e68-bf771bc3655c"
      },
      "outputs": [
        {
          "output_type": "stream",
          "name": "stdout",
          "text": [
            "Mounted at /content/drive\n"
          ]
        }
      ],
      "source": [
        "from google.colab import drive\n",
        "drive.mount('/content/drive')"
      ]
    },
    {
      "cell_type": "code",
      "execution_count": null,
      "metadata": {
        "id": "L_4fnk7TBqVo"
      },
      "outputs": [],
      "source": [
        "data = pd.read_csv(\"/content/drive/MyDrive/Trabalho - ICD/PS_20174392719_1491204439457_log.csv\")"
      ]
    },
    {
      "cell_type": "code",
      "execution_count": null,
      "metadata": {
        "colab": {
          "base_uri": "https://localhost:8080/",
          "height": 289
        },
        "id": "ValR3AOdB-Un",
        "outputId": "a4178e9b-478c-454d-d424-b54199a47186"
      },
      "outputs": [
        {
          "output_type": "stream",
          "name": "stdout",
          "text": [
            "Número de linhas e colunas do dataframe:  (6362620, 11)\n"
          ]
        },
        {
          "output_type": "execute_result",
          "data": {
            "text/plain": [
              "   step      type    amount     nameOrig  oldbalanceOrg  newbalanceOrig  \\\n",
              "0     1   PAYMENT   9839.64  C1231006815       170136.0       160296.36   \n",
              "1     1   PAYMENT   1864.28  C1666544295        21249.0        19384.72   \n",
              "2     1  TRANSFER    181.00  C1305486145          181.0            0.00   \n",
              "3     1  CASH_OUT    181.00   C840083671          181.0            0.00   \n",
              "4     1   PAYMENT  11668.14  C2048537720        41554.0        29885.86   \n",
              "\n",
              "      nameDest  oldbalanceDest  newbalanceDest  isFraud  isFlaggedFraud  \n",
              "0  M1979787155             0.0             0.0        0               0  \n",
              "1  M2044282225             0.0             0.0        0               0  \n",
              "2   C553264065             0.0             0.0        1               0  \n",
              "3    C38997010         21182.0             0.0        1               0  \n",
              "4  M1230701703             0.0             0.0        0               0  "
            ],
            "text/html": [
              "\n",
              "  <div id=\"df-c9f0280a-465e-4bfb-9921-859cf2824112\">\n",
              "    <div class=\"colab-df-container\">\n",
              "      <div>\n",
              "<style scoped>\n",
              "    .dataframe tbody tr th:only-of-type {\n",
              "        vertical-align: middle;\n",
              "    }\n",
              "\n",
              "    .dataframe tbody tr th {\n",
              "        vertical-align: top;\n",
              "    }\n",
              "\n",
              "    .dataframe thead th {\n",
              "        text-align: right;\n",
              "    }\n",
              "</style>\n",
              "<table border=\"1\" class=\"dataframe\">\n",
              "  <thead>\n",
              "    <tr style=\"text-align: right;\">\n",
              "      <th></th>\n",
              "      <th>step</th>\n",
              "      <th>type</th>\n",
              "      <th>amount</th>\n",
              "      <th>nameOrig</th>\n",
              "      <th>oldbalanceOrg</th>\n",
              "      <th>newbalanceOrig</th>\n",
              "      <th>nameDest</th>\n",
              "      <th>oldbalanceDest</th>\n",
              "      <th>newbalanceDest</th>\n",
              "      <th>isFraud</th>\n",
              "      <th>isFlaggedFraud</th>\n",
              "    </tr>\n",
              "  </thead>\n",
              "  <tbody>\n",
              "    <tr>\n",
              "      <th>0</th>\n",
              "      <td>1</td>\n",
              "      <td>PAYMENT</td>\n",
              "      <td>9839.64</td>\n",
              "      <td>C1231006815</td>\n",
              "      <td>170136.0</td>\n",
              "      <td>160296.36</td>\n",
              "      <td>M1979787155</td>\n",
              "      <td>0.0</td>\n",
              "      <td>0.0</td>\n",
              "      <td>0</td>\n",
              "      <td>0</td>\n",
              "    </tr>\n",
              "    <tr>\n",
              "      <th>1</th>\n",
              "      <td>1</td>\n",
              "      <td>PAYMENT</td>\n",
              "      <td>1864.28</td>\n",
              "      <td>C1666544295</td>\n",
              "      <td>21249.0</td>\n",
              "      <td>19384.72</td>\n",
              "      <td>M2044282225</td>\n",
              "      <td>0.0</td>\n",
              "      <td>0.0</td>\n",
              "      <td>0</td>\n",
              "      <td>0</td>\n",
              "    </tr>\n",
              "    <tr>\n",
              "      <th>2</th>\n",
              "      <td>1</td>\n",
              "      <td>TRANSFER</td>\n",
              "      <td>181.00</td>\n",
              "      <td>C1305486145</td>\n",
              "      <td>181.0</td>\n",
              "      <td>0.00</td>\n",
              "      <td>C553264065</td>\n",
              "      <td>0.0</td>\n",
              "      <td>0.0</td>\n",
              "      <td>1</td>\n",
              "      <td>0</td>\n",
              "    </tr>\n",
              "    <tr>\n",
              "      <th>3</th>\n",
              "      <td>1</td>\n",
              "      <td>CASH_OUT</td>\n",
              "      <td>181.00</td>\n",
              "      <td>C840083671</td>\n",
              "      <td>181.0</td>\n",
              "      <td>0.00</td>\n",
              "      <td>C38997010</td>\n",
              "      <td>21182.0</td>\n",
              "      <td>0.0</td>\n",
              "      <td>1</td>\n",
              "      <td>0</td>\n",
              "    </tr>\n",
              "    <tr>\n",
              "      <th>4</th>\n",
              "      <td>1</td>\n",
              "      <td>PAYMENT</td>\n",
              "      <td>11668.14</td>\n",
              "      <td>C2048537720</td>\n",
              "      <td>41554.0</td>\n",
              "      <td>29885.86</td>\n",
              "      <td>M1230701703</td>\n",
              "      <td>0.0</td>\n",
              "      <td>0.0</td>\n",
              "      <td>0</td>\n",
              "      <td>0</td>\n",
              "    </tr>\n",
              "  </tbody>\n",
              "</table>\n",
              "</div>\n",
              "      <button class=\"colab-df-convert\" onclick=\"convertToInteractive('df-c9f0280a-465e-4bfb-9921-859cf2824112')\"\n",
              "              title=\"Convert this dataframe to an interactive table.\"\n",
              "              style=\"display:none;\">\n",
              "        \n",
              "  <svg xmlns=\"http://www.w3.org/2000/svg\" height=\"24px\"viewBox=\"0 0 24 24\"\n",
              "       width=\"24px\">\n",
              "    <path d=\"M0 0h24v24H0V0z\" fill=\"none\"/>\n",
              "    <path d=\"M18.56 5.44l.94 2.06.94-2.06 2.06-.94-2.06-.94-.94-2.06-.94 2.06-2.06.94zm-11 1L8.5 8.5l.94-2.06 2.06-.94-2.06-.94L8.5 2.5l-.94 2.06-2.06.94zm10 10l.94 2.06.94-2.06 2.06-.94-2.06-.94-.94-2.06-.94 2.06-2.06.94z\"/><path d=\"M17.41 7.96l-1.37-1.37c-.4-.4-.92-.59-1.43-.59-.52 0-1.04.2-1.43.59L10.3 9.45l-7.72 7.72c-.78.78-.78 2.05 0 2.83L4 21.41c.39.39.9.59 1.41.59.51 0 1.02-.2 1.41-.59l7.78-7.78 2.81-2.81c.8-.78.8-2.07 0-2.86zM5.41 20L4 18.59l7.72-7.72 1.47 1.35L5.41 20z\"/>\n",
              "  </svg>\n",
              "      </button>\n",
              "      \n",
              "  <style>\n",
              "    .colab-df-container {\n",
              "      display:flex;\n",
              "      flex-wrap:wrap;\n",
              "      gap: 12px;\n",
              "    }\n",
              "\n",
              "    .colab-df-convert {\n",
              "      background-color: #E8F0FE;\n",
              "      border: none;\n",
              "      border-radius: 50%;\n",
              "      cursor: pointer;\n",
              "      display: none;\n",
              "      fill: #1967D2;\n",
              "      height: 32px;\n",
              "      padding: 0 0 0 0;\n",
              "      width: 32px;\n",
              "    }\n",
              "\n",
              "    .colab-df-convert:hover {\n",
              "      background-color: #E2EBFA;\n",
              "      box-shadow: 0px 1px 2px rgba(60, 64, 67, 0.3), 0px 1px 3px 1px rgba(60, 64, 67, 0.15);\n",
              "      fill: #174EA6;\n",
              "    }\n",
              "\n",
              "    [theme=dark] .colab-df-convert {\n",
              "      background-color: #3B4455;\n",
              "      fill: #D2E3FC;\n",
              "    }\n",
              "\n",
              "    [theme=dark] .colab-df-convert:hover {\n",
              "      background-color: #434B5C;\n",
              "      box-shadow: 0px 1px 3px 1px rgba(0, 0, 0, 0.15);\n",
              "      filter: drop-shadow(0px 1px 2px rgba(0, 0, 0, 0.3));\n",
              "      fill: #FFFFFF;\n",
              "    }\n",
              "  </style>\n",
              "\n",
              "      <script>\n",
              "        const buttonEl =\n",
              "          document.querySelector('#df-c9f0280a-465e-4bfb-9921-859cf2824112 button.colab-df-convert');\n",
              "        buttonEl.style.display =\n",
              "          google.colab.kernel.accessAllowed ? 'block' : 'none';\n",
              "\n",
              "        async function convertToInteractive(key) {\n",
              "          const element = document.querySelector('#df-c9f0280a-465e-4bfb-9921-859cf2824112');\n",
              "          const dataTable =\n",
              "            await google.colab.kernel.invokeFunction('convertToInteractive',\n",
              "                                                     [key], {});\n",
              "          if (!dataTable) return;\n",
              "\n",
              "          const docLinkHtml = 'Like what you see? Visit the ' +\n",
              "            '<a target=\"_blank\" href=https://colab.research.google.com/notebooks/data_table.ipynb>data table notebook</a>'\n",
              "            + ' to learn more about interactive tables.';\n",
              "          element.innerHTML = '';\n",
              "          dataTable['output_type'] = 'display_data';\n",
              "          await google.colab.output.renderOutput(dataTable, element);\n",
              "          const docLink = document.createElement('div');\n",
              "          docLink.innerHTML = docLinkHtml;\n",
              "          element.appendChild(docLink);\n",
              "        }\n",
              "      </script>\n",
              "    </div>\n",
              "  </div>\n",
              "  "
            ]
          },
          "metadata": {},
          "execution_count": 4
        }
      ],
      "source": [
        "print(\"Número de linhas e colunas do dataframe: \", data.shape)\n",
        "data.head(5)"
      ]
    },
    {
      "cell_type": "markdown",
      "metadata": {
        "id": "uYjbxo_eLbRO"
      },
      "source": [
        "Vamos verificar se existem valores nulos no conjunto de dados"
      ]
    },
    {
      "cell_type": "code",
      "execution_count": null,
      "metadata": {
        "colab": {
          "base_uri": "https://localhost:8080/"
        },
        "id": "NttDHpZ0JCdK",
        "outputId": "3afc3456-9aed-4f9e-b878-e263841a3788"
      },
      "outputs": [
        {
          "name": "stdout",
          "output_type": "stream",
          "text": [
            "step              0\n",
            "type              0\n",
            "amount            0\n",
            "nameOrig          0\n",
            "oldbalanceOrg     0\n",
            "newbalanceOrig    0\n",
            "nameDest          0\n",
            "oldbalanceDest    0\n",
            "newbalanceDest    0\n",
            "isFraud           0\n",
            "isFlaggedFraud    0\n",
            "dtype: int64\n"
          ]
        }
      ],
      "source": [
        "print(data.isna().sum())"
      ]
    },
    {
      "cell_type": "markdown",
      "metadata": {
        "id": "ysk3iU9pJ7Eh"
      },
      "source": [
        "Vemos que este conjunto de dados não possui valores nulos. Vamos verificar agora os tipos de cada transação:\n"
      ]
    },
    {
      "cell_type": "code",
      "execution_count": null,
      "metadata": {
        "colab": {
          "base_uri": "https://localhost:8080/"
        },
        "id": "TMtNzcfqJ3vH",
        "outputId": "f419b8b0-c60f-48c4-b874-5f75148c6761"
      },
      "outputs": [
        {
          "name": "stdout",
          "output_type": "stream",
          "text": [
            "CASH_OUT    2237500\n",
            "PAYMENT     2151495\n",
            "CASH_IN     1399284\n",
            "TRANSFER     532909\n",
            "DEBIT         41432\n",
            "Name: type, dtype: int64\n"
          ]
        }
      ],
      "source": [
        "# Tipos das transações\n",
        "print(data.type.value_counts())"
      ]
    },
    {
      "cell_type": "markdown",
      "metadata": {
        "id": "35o5yjLKKFWt"
      },
      "source": [
        "Vamos remover possíveis linhas duplicadas e valores da forma \"?\" dos dados:\n"
      ]
    },
    {
      "cell_type": "code",
      "execution_count": null,
      "metadata": {
        "colab": {
          "base_uri": "https://localhost:8080/"
        },
        "id": "7LlRMCljcssM",
        "outputId": "4c60cc04-ecaa-4726-d325-9205f7136675"
      },
      "outputs": [
        {
          "data": {
            "text/plain": [
              "0"
            ]
          },
          "execution_count": 7,
          "metadata": {},
          "output_type": "execute_result"
        }
      ],
      "source": [
        "# Note que não há entradas duplicadas no conjunto\n",
        "len(data[data.duplicated()])"
      ]
    },
    {
      "cell_type": "code",
      "execution_count": null,
      "metadata": {
        "colab": {
          "base_uri": "https://localhost:8080/"
        },
        "id": "fTig1qm7dsJg",
        "outputId": "5ad5f730-daa4-45c4-9299-a243cda462e0"
      },
      "outputs": [
        {
          "data": {
            "text/plain": [
              "0"
            ]
          },
          "execution_count": 8,
          "metadata": {},
          "output_type": "execute_result"
        }
      ],
      "source": [
        "# Nem \"?\"\n",
        "len(data[data.eq(\"?\").any(1)])"
      ]
    },
    {
      "cell_type": "markdown",
      "metadata": {
        "id": "R2EiKxvRc9Sm"
      },
      "source": [
        "Desta forma, temos um conjunto de dados sem erros e entradas duplicadas."
      ]
    },
    {
      "cell_type": "markdown",
      "metadata": {
        "id": "i_MmAbJtzdXi"
      },
      "source": [
        "- Vamos transformar as variáveis categóricas em numéricas. Aqui também transformaremos os valores da coluna 'isFraud' para 'Não Fraude' e 'Fraude' para ter um melhor entendimento da saída. A transformação é feita para o data frame com os Merchants e para o data frame sem os Merchants.\n"
      ]
    },
    {
      "cell_type": "code",
      "execution_count": null,
      "metadata": {
        "colab": {
          "base_uri": "https://localhost:8080/"
        },
        "id": "2DlMuZBWzfo0",
        "outputId": "024daa21-8138-4f69-ede7-9b09ee6ea422"
      },
      "outputs": [
        {
          "output_type": "stream",
          "name": "stdout",
          "text": [
            "   step  type    amount     nameOrig  oldbalanceOrg  newbalanceOrig  \\\n",
            "0     1     2   9839.64  C1231006815       170136.0       160296.36   \n",
            "1     1     2   1864.28  C1666544295        21249.0        19384.72   \n",
            "2     1     4    181.00  C1305486145          181.0            0.00   \n",
            "3     1     1    181.00   C840083671          181.0            0.00   \n",
            "4     1     2  11668.14  C2048537720        41554.0        29885.86   \n",
            "\n",
            "      nameDest  oldbalanceDest  newbalanceDest  isFraud  isFlaggedFraud  \n",
            "0  M1979787155             0.0             0.0        0               0  \n",
            "1  M2044282225             0.0             0.0        0               0  \n",
            "2   C553264065             0.0             0.0        1               0  \n",
            "3    C38997010         21182.0             0.0        1               0  \n",
            "4  M1230701703             0.0             0.0        0               0  \n"
          ]
        }
      ],
      "source": [
        "# Transformação para os dados com os Merchants\n",
        "data[\"type\"] = data[\"type\"].map({\"CASH_OUT\": 1, \"PAYMENT\": 2, \n",
        "                                 \"CASH_IN\": 3, \"TRANSFER\": 4,\n",
        "                                 \"DEBIT\": 5})\n",
        "#data[\"isFraud\"] = data[\"isFraud\"].map({0: \"Não Fraude\", 1: \"Fraude\"})\n",
        "print(data.head())"
      ]
    },
    {
      "cell_type": "markdown",
      "metadata": {
        "id": "Oc0oeF-7cUT6"
      },
      "source": [
        "## **3. Análise Exploratória dos Dados**"
      ]
    },
    {
      "cell_type": "markdown",
      "metadata": {
        "id": "SiDC31F9cazc"
      },
      "source": [
        "Selecionamos apenas os casos de fraude e verificamos se existem pagadores cometendo mais de uma fraude e recebedores recebendo mais de uma fraude."
      ]
    },
    {
      "cell_type": "code",
      "execution_count": null,
      "metadata": {
        "id": "GGSHdkkfcQak"
      },
      "outputs": [],
      "source": [
        "data_fraude = data.loc[data['isFraud'] == 1]\n",
        "\n",
        "# Recebedores que recebem mais de uma fraude\n",
        "ids_d = data_fraude[\"nameDest\"]\n",
        "recebedores_fraudes = data_fraude[ids_d.isin(ids_d[ids_d.duplicated()])].sort_values(\"nameDest\")\n",
        "\n",
        "# Pagadores que cometem mais de uma fraude\n",
        "ids_o = data_fraude[\"nameOrig\"]\n",
        "pagadores_fraudes = data_fraude[ids_o.isin(ids_o[ids_o.duplicated()])].sort_values(\"nameOrig\")"
      ]
    },
    {
      "cell_type": "code",
      "execution_count": null,
      "metadata": {
        "colab": {
          "base_uri": "https://localhost:8080/",
          "height": 488
        },
        "id": "nCyuvgXQcgEr",
        "outputId": "7802b7f1-8836-4b4e-caec-d5cfc3dfb462"
      },
      "outputs": [
        {
          "data": {
            "text/html": [
              "\n",
              "  <div id=\"df-7feaedd1-1d76-4869-bfbf-0c87eb8fcd74\">\n",
              "    <div class=\"colab-df-container\">\n",
              "      <div>\n",
              "<style scoped>\n",
              "    .dataframe tbody tr th:only-of-type {\n",
              "        vertical-align: middle;\n",
              "    }\n",
              "\n",
              "    .dataframe tbody tr th {\n",
              "        vertical-align: top;\n",
              "    }\n",
              "\n",
              "    .dataframe thead th {\n",
              "        text-align: right;\n",
              "    }\n",
              "</style>\n",
              "<table border=\"1\" class=\"dataframe\">\n",
              "  <thead>\n",
              "    <tr style=\"text-align: right;\">\n",
              "      <th></th>\n",
              "      <th>step</th>\n",
              "      <th>type</th>\n",
              "      <th>amount</th>\n",
              "      <th>nameOrig</th>\n",
              "      <th>oldbalanceOrg</th>\n",
              "      <th>newbalanceOrig</th>\n",
              "      <th>nameDest</th>\n",
              "      <th>oldbalanceDest</th>\n",
              "      <th>newbalanceDest</th>\n",
              "      <th>isFraud</th>\n",
              "      <th>isFlaggedFraud</th>\n",
              "    </tr>\n",
              "  </thead>\n",
              "  <tbody>\n",
              "    <tr>\n",
              "      <th>49826</th>\n",
              "      <td>9</td>\n",
              "      <td>1</td>\n",
              "      <td>2539898.07</td>\n",
              "      <td>C728718059</td>\n",
              "      <td>2539898.07</td>\n",
              "      <td>0.0</td>\n",
              "      <td>C1013511446</td>\n",
              "      <td>968.00</td>\n",
              "      <td>1842864.22</td>\n",
              "      <td>1</td>\n",
              "      <td>0</td>\n",
              "    </tr>\n",
              "    <tr>\n",
              "      <th>1030590</th>\n",
              "      <td>74</td>\n",
              "      <td>1</td>\n",
              "      <td>455074.13</td>\n",
              "      <td>C695129655</td>\n",
              "      <td>455074.13</td>\n",
              "      <td>0.0</td>\n",
              "      <td>C1013511446</td>\n",
              "      <td>9237170.74</td>\n",
              "      <td>9692244.86</td>\n",
              "      <td>1</td>\n",
              "      <td>0</td>\n",
              "    </tr>\n",
              "    <tr>\n",
              "      <th>1030368</th>\n",
              "      <td>59</td>\n",
              "      <td>1</td>\n",
              "      <td>2050727.81</td>\n",
              "      <td>C992917413</td>\n",
              "      <td>2050727.81</td>\n",
              "      <td>0.0</td>\n",
              "      <td>C104038589</td>\n",
              "      <td>0.00</td>\n",
              "      <td>2050727.81</td>\n",
              "      <td>1</td>\n",
              "      <td>0</td>\n",
              "    </tr>\n",
              "    <tr>\n",
              "      <th>788647</th>\n",
              "      <td>39</td>\n",
              "      <td>4</td>\n",
              "      <td>152042.16</td>\n",
              "      <td>C1118399210</td>\n",
              "      <td>152042.16</td>\n",
              "      <td>0.0</td>\n",
              "      <td>C104038589</td>\n",
              "      <td>0.00</td>\n",
              "      <td>0.00</td>\n",
              "      <td>1</td>\n",
              "      <td>0</td>\n",
              "    </tr>\n",
              "    <tr>\n",
              "      <th>3960313</th>\n",
              "      <td>294</td>\n",
              "      <td>1</td>\n",
              "      <td>290090.57</td>\n",
              "      <td>C2076884011</td>\n",
              "      <td>290090.57</td>\n",
              "      <td>0.0</td>\n",
              "      <td>C105660024</td>\n",
              "      <td>2000395.18</td>\n",
              "      <td>2290485.75</td>\n",
              "      <td>1</td>\n",
              "      <td>0</td>\n",
              "    </tr>\n",
              "    <tr>\n",
              "      <th>...</th>\n",
              "      <td>...</td>\n",
              "      <td>...</td>\n",
              "      <td>...</td>\n",
              "      <td>...</td>\n",
              "      <td>...</td>\n",
              "      <td>...</td>\n",
              "      <td>...</td>\n",
              "      <td>...</td>\n",
              "      <td>...</td>\n",
              "      <td>...</td>\n",
              "      <td>...</td>\n",
              "    </tr>\n",
              "    <tr>\n",
              "      <th>637350</th>\n",
              "      <td>35</td>\n",
              "      <td>4</td>\n",
              "      <td>472692.51</td>\n",
              "      <td>C892010542</td>\n",
              "      <td>472692.51</td>\n",
              "      <td>0.0</td>\n",
              "      <td>C935310781</td>\n",
              "      <td>0.00</td>\n",
              "      <td>0.00</td>\n",
              "      <td>1</td>\n",
              "      <td>0</td>\n",
              "    </tr>\n",
              "    <tr>\n",
              "      <th>4058811</th>\n",
              "      <td>300</td>\n",
              "      <td>1</td>\n",
              "      <td>176059.16</td>\n",
              "      <td>C1203474575</td>\n",
              "      <td>176059.16</td>\n",
              "      <td>0.0</td>\n",
              "      <td>C964377943</td>\n",
              "      <td>105783.21</td>\n",
              "      <td>281842.36</td>\n",
              "      <td>1</td>\n",
              "      <td>0</td>\n",
              "    </tr>\n",
              "    <tr>\n",
              "      <th>5801852</th>\n",
              "      <td>401</td>\n",
              "      <td>1</td>\n",
              "      <td>5838803.23</td>\n",
              "      <td>C388640141</td>\n",
              "      <td>5838803.23</td>\n",
              "      <td>0.0</td>\n",
              "      <td>C964377943</td>\n",
              "      <td>471758.21</td>\n",
              "      <td>6310561.44</td>\n",
              "      <td>1</td>\n",
              "      <td>0</td>\n",
              "    </tr>\n",
              "    <tr>\n",
              "      <th>1832574</th>\n",
              "      <td>163</td>\n",
              "      <td>1</td>\n",
              "      <td>762135.72</td>\n",
              "      <td>C1088995906</td>\n",
              "      <td>762135.72</td>\n",
              "      <td>0.0</td>\n",
              "      <td>C967226405</td>\n",
              "      <td>47768.78</td>\n",
              "      <td>809904.50</td>\n",
              "      <td>1</td>\n",
              "      <td>0</td>\n",
              "    </tr>\n",
              "    <tr>\n",
              "      <th>3363957</th>\n",
              "      <td>254</td>\n",
              "      <td>1</td>\n",
              "      <td>653949.74</td>\n",
              "      <td>C1985193615</td>\n",
              "      <td>653949.74</td>\n",
              "      <td>0.0</td>\n",
              "      <td>C967226405</td>\n",
              "      <td>1404475.93</td>\n",
              "      <td>2058425.67</td>\n",
              "      <td>1</td>\n",
              "      <td>0</td>\n",
              "    </tr>\n",
              "  </tbody>\n",
              "</table>\n",
              "<p>88 rows × 11 columns</p>\n",
              "</div>\n",
              "      <button class=\"colab-df-convert\" onclick=\"convertToInteractive('df-7feaedd1-1d76-4869-bfbf-0c87eb8fcd74')\"\n",
              "              title=\"Convert this dataframe to an interactive table.\"\n",
              "              style=\"display:none;\">\n",
              "        \n",
              "  <svg xmlns=\"http://www.w3.org/2000/svg\" height=\"24px\"viewBox=\"0 0 24 24\"\n",
              "       width=\"24px\">\n",
              "    <path d=\"M0 0h24v24H0V0z\" fill=\"none\"/>\n",
              "    <path d=\"M18.56 5.44l.94 2.06.94-2.06 2.06-.94-2.06-.94-.94-2.06-.94 2.06-2.06.94zm-11 1L8.5 8.5l.94-2.06 2.06-.94-2.06-.94L8.5 2.5l-.94 2.06-2.06.94zm10 10l.94 2.06.94-2.06 2.06-.94-2.06-.94-.94-2.06-.94 2.06-2.06.94z\"/><path d=\"M17.41 7.96l-1.37-1.37c-.4-.4-.92-.59-1.43-.59-.52 0-1.04.2-1.43.59L10.3 9.45l-7.72 7.72c-.78.78-.78 2.05 0 2.83L4 21.41c.39.39.9.59 1.41.59.51 0 1.02-.2 1.41-.59l7.78-7.78 2.81-2.81c.8-.78.8-2.07 0-2.86zM5.41 20L4 18.59l7.72-7.72 1.47 1.35L5.41 20z\"/>\n",
              "  </svg>\n",
              "      </button>\n",
              "      \n",
              "  <style>\n",
              "    .colab-df-container {\n",
              "      display:flex;\n",
              "      flex-wrap:wrap;\n",
              "      gap: 12px;\n",
              "    }\n",
              "\n",
              "    .colab-df-convert {\n",
              "      background-color: #E8F0FE;\n",
              "      border: none;\n",
              "      border-radius: 50%;\n",
              "      cursor: pointer;\n",
              "      display: none;\n",
              "      fill: #1967D2;\n",
              "      height: 32px;\n",
              "      padding: 0 0 0 0;\n",
              "      width: 32px;\n",
              "    }\n",
              "\n",
              "    .colab-df-convert:hover {\n",
              "      background-color: #E2EBFA;\n",
              "      box-shadow: 0px 1px 2px rgba(60, 64, 67, 0.3), 0px 1px 3px 1px rgba(60, 64, 67, 0.15);\n",
              "      fill: #174EA6;\n",
              "    }\n",
              "\n",
              "    [theme=dark] .colab-df-convert {\n",
              "      background-color: #3B4455;\n",
              "      fill: #D2E3FC;\n",
              "    }\n",
              "\n",
              "    [theme=dark] .colab-df-convert:hover {\n",
              "      background-color: #434B5C;\n",
              "      box-shadow: 0px 1px 3px 1px rgba(0, 0, 0, 0.15);\n",
              "      filter: drop-shadow(0px 1px 2px rgba(0, 0, 0, 0.3));\n",
              "      fill: #FFFFFF;\n",
              "    }\n",
              "  </style>\n",
              "\n",
              "      <script>\n",
              "        const buttonEl =\n",
              "          document.querySelector('#df-7feaedd1-1d76-4869-bfbf-0c87eb8fcd74 button.colab-df-convert');\n",
              "        buttonEl.style.display =\n",
              "          google.colab.kernel.accessAllowed ? 'block' : 'none';\n",
              "\n",
              "        async function convertToInteractive(key) {\n",
              "          const element = document.querySelector('#df-7feaedd1-1d76-4869-bfbf-0c87eb8fcd74');\n",
              "          const dataTable =\n",
              "            await google.colab.kernel.invokeFunction('convertToInteractive',\n",
              "                                                     [key], {});\n",
              "          if (!dataTable) return;\n",
              "\n",
              "          const docLinkHtml = 'Like what you see? Visit the ' +\n",
              "            '<a target=\"_blank\" href=https://colab.research.google.com/notebooks/data_table.ipynb>data table notebook</a>'\n",
              "            + ' to learn more about interactive tables.';\n",
              "          element.innerHTML = '';\n",
              "          dataTable['output_type'] = 'display_data';\n",
              "          await google.colab.output.renderOutput(dataTable, element);\n",
              "          const docLink = document.createElement('div');\n",
              "          docLink.innerHTML = docLinkHtml;\n",
              "          element.appendChild(docLink);\n",
              "        }\n",
              "      </script>\n",
              "    </div>\n",
              "  </div>\n",
              "  "
            ],
            "text/plain": [
              "         step  type      amount     nameOrig  oldbalanceOrg  newbalanceOrig  \\\n",
              "49826       9     1  2539898.07   C728718059     2539898.07             0.0   \n",
              "1030590    74     1   455074.13   C695129655      455074.13             0.0   \n",
              "1030368    59     1  2050727.81   C992917413     2050727.81             0.0   \n",
              "788647     39     4   152042.16  C1118399210      152042.16             0.0   \n",
              "3960313   294     1   290090.57  C2076884011      290090.57             0.0   \n",
              "...       ...   ...         ...          ...            ...             ...   \n",
              "637350     35     4   472692.51   C892010542      472692.51             0.0   \n",
              "4058811   300     1   176059.16  C1203474575      176059.16             0.0   \n",
              "5801852   401     1  5838803.23   C388640141     5838803.23             0.0   \n",
              "1832574   163     1   762135.72  C1088995906      762135.72             0.0   \n",
              "3363957   254     1   653949.74  C1985193615      653949.74             0.0   \n",
              "\n",
              "            nameDest  oldbalanceDest  newbalanceDest  isFraud  isFlaggedFraud  \n",
              "49826    C1013511446          968.00      1842864.22        1               0  \n",
              "1030590  C1013511446      9237170.74      9692244.86        1               0  \n",
              "1030368   C104038589            0.00      2050727.81        1               0  \n",
              "788647    C104038589            0.00            0.00        1               0  \n",
              "3960313   C105660024      2000395.18      2290485.75        1               0  \n",
              "...              ...             ...             ...      ...             ...  \n",
              "637350    C935310781            0.00            0.00        1               0  \n",
              "4058811   C964377943       105783.21       281842.36        1               0  \n",
              "5801852   C964377943       471758.21      6310561.44        1               0  \n",
              "1832574   C967226405        47768.78       809904.50        1               0  \n",
              "3363957   C967226405      1404475.93      2058425.67        1               0  \n",
              "\n",
              "[88 rows x 11 columns]"
            ]
          },
          "execution_count": 11,
          "metadata": {},
          "output_type": "execute_result"
        }
      ],
      "source": [
        "recebedores_fraudes"
      ]
    },
    {
      "cell_type": "code",
      "execution_count": null,
      "metadata": {
        "colab": {
          "base_uri": "https://localhost:8080/",
          "height": 113
        },
        "id": "EQS-lnVccf4x",
        "outputId": "378f8782-1467-495f-bbb1-55aadbb1ac61"
      },
      "outputs": [
        {
          "data": {
            "text/html": [
              "\n",
              "  <div id=\"df-d62a5c88-ceee-4a12-8d29-1664b97cc6f5\">\n",
              "    <div class=\"colab-df-container\">\n",
              "      <div>\n",
              "<style scoped>\n",
              "    .dataframe tbody tr th:only-of-type {\n",
              "        vertical-align: middle;\n",
              "    }\n",
              "\n",
              "    .dataframe tbody tr th {\n",
              "        vertical-align: top;\n",
              "    }\n",
              "\n",
              "    .dataframe thead th {\n",
              "        text-align: right;\n",
              "    }\n",
              "</style>\n",
              "<table border=\"1\" class=\"dataframe\">\n",
              "  <thead>\n",
              "    <tr style=\"text-align: right;\">\n",
              "      <th></th>\n",
              "      <th>step</th>\n",
              "      <th>type</th>\n",
              "      <th>amount</th>\n",
              "      <th>nameOrig</th>\n",
              "      <th>oldbalanceOrg</th>\n",
              "      <th>newbalanceOrig</th>\n",
              "      <th>nameDest</th>\n",
              "      <th>oldbalanceDest</th>\n",
              "      <th>newbalanceDest</th>\n",
              "      <th>isFraud</th>\n",
              "      <th>isFlaggedFraud</th>\n",
              "    </tr>\n",
              "  </thead>\n",
              "  <tbody>\n",
              "  </tbody>\n",
              "</table>\n",
              "</div>\n",
              "      <button class=\"colab-df-convert\" onclick=\"convertToInteractive('df-d62a5c88-ceee-4a12-8d29-1664b97cc6f5')\"\n",
              "              title=\"Convert this dataframe to an interactive table.\"\n",
              "              style=\"display:none;\">\n",
              "        \n",
              "  <svg xmlns=\"http://www.w3.org/2000/svg\" height=\"24px\"viewBox=\"0 0 24 24\"\n",
              "       width=\"24px\">\n",
              "    <path d=\"M0 0h24v24H0V0z\" fill=\"none\"/>\n",
              "    <path d=\"M18.56 5.44l.94 2.06.94-2.06 2.06-.94-2.06-.94-.94-2.06-.94 2.06-2.06.94zm-11 1L8.5 8.5l.94-2.06 2.06-.94-2.06-.94L8.5 2.5l-.94 2.06-2.06.94zm10 10l.94 2.06.94-2.06 2.06-.94-2.06-.94-.94-2.06-.94 2.06-2.06.94z\"/><path d=\"M17.41 7.96l-1.37-1.37c-.4-.4-.92-.59-1.43-.59-.52 0-1.04.2-1.43.59L10.3 9.45l-7.72 7.72c-.78.78-.78 2.05 0 2.83L4 21.41c.39.39.9.59 1.41.59.51 0 1.02-.2 1.41-.59l7.78-7.78 2.81-2.81c.8-.78.8-2.07 0-2.86zM5.41 20L4 18.59l7.72-7.72 1.47 1.35L5.41 20z\"/>\n",
              "  </svg>\n",
              "      </button>\n",
              "      \n",
              "  <style>\n",
              "    .colab-df-container {\n",
              "      display:flex;\n",
              "      flex-wrap:wrap;\n",
              "      gap: 12px;\n",
              "    }\n",
              "\n",
              "    .colab-df-convert {\n",
              "      background-color: #E8F0FE;\n",
              "      border: none;\n",
              "      border-radius: 50%;\n",
              "      cursor: pointer;\n",
              "      display: none;\n",
              "      fill: #1967D2;\n",
              "      height: 32px;\n",
              "      padding: 0 0 0 0;\n",
              "      width: 32px;\n",
              "    }\n",
              "\n",
              "    .colab-df-convert:hover {\n",
              "      background-color: #E2EBFA;\n",
              "      box-shadow: 0px 1px 2px rgba(60, 64, 67, 0.3), 0px 1px 3px 1px rgba(60, 64, 67, 0.15);\n",
              "      fill: #174EA6;\n",
              "    }\n",
              "\n",
              "    [theme=dark] .colab-df-convert {\n",
              "      background-color: #3B4455;\n",
              "      fill: #D2E3FC;\n",
              "    }\n",
              "\n",
              "    [theme=dark] .colab-df-convert:hover {\n",
              "      background-color: #434B5C;\n",
              "      box-shadow: 0px 1px 3px 1px rgba(0, 0, 0, 0.15);\n",
              "      filter: drop-shadow(0px 1px 2px rgba(0, 0, 0, 0.3));\n",
              "      fill: #FFFFFF;\n",
              "    }\n",
              "  </style>\n",
              "\n",
              "      <script>\n",
              "        const buttonEl =\n",
              "          document.querySelector('#df-d62a5c88-ceee-4a12-8d29-1664b97cc6f5 button.colab-df-convert');\n",
              "        buttonEl.style.display =\n",
              "          google.colab.kernel.accessAllowed ? 'block' : 'none';\n",
              "\n",
              "        async function convertToInteractive(key) {\n",
              "          const element = document.querySelector('#df-d62a5c88-ceee-4a12-8d29-1664b97cc6f5');\n",
              "          const dataTable =\n",
              "            await google.colab.kernel.invokeFunction('convertToInteractive',\n",
              "                                                     [key], {});\n",
              "          if (!dataTable) return;\n",
              "\n",
              "          const docLinkHtml = 'Like what you see? Visit the ' +\n",
              "            '<a target=\"_blank\" href=https://colab.research.google.com/notebooks/data_table.ipynb>data table notebook</a>'\n",
              "            + ' to learn more about interactive tables.';\n",
              "          element.innerHTML = '';\n",
              "          dataTable['output_type'] = 'display_data';\n",
              "          await google.colab.output.renderOutput(dataTable, element);\n",
              "          const docLink = document.createElement('div');\n",
              "          docLink.innerHTML = docLinkHtml;\n",
              "          element.appendChild(docLink);\n",
              "        }\n",
              "      </script>\n",
              "    </div>\n",
              "  </div>\n",
              "  "
            ],
            "text/plain": [
              "Empty DataFrame\n",
              "Columns: [step, type, amount, nameOrig, oldbalanceOrg, newbalanceOrig, nameDest, oldbalanceDest, newbalanceDest, isFraud, isFlaggedFraud]\n",
              "Index: []"
            ]
          },
          "execution_count": 23,
          "metadata": {},
          "output_type": "execute_result"
        }
      ],
      "source": [
        "pagadores_fraudes"
      ]
    },
    {
      "cell_type": "markdown",
      "metadata": {
        "id": "r0nGnkJLcr2E"
      },
      "source": [
        "## **3.1 Análise dos Merchants** \n",
        "\n",
        "Todos os destinos de pagamentos que começam com a letra \"M\" são chamados de Merchants, e sobre eles não temos informação sobre receita antes e depois do pagamento, logo, precisamos fazer uma análise da importância dos dados que os contenham para verificarmos se faz sentido manter esses dados ou não para treinar os modelos dos classificadores.\n"
      ]
    },
    {
      "cell_type": "markdown",
      "metadata": {
        "id": "CvRmiR5rwkWr"
      },
      "source": [
        "- Iniciamos com a verificação de quantas linhas do *dataset* são representas por Merchants, pois precisamos verificar se a quantidade é significativa."
      ]
    },
    {
      "cell_type": "code",
      "execution_count": null,
      "metadata": {
        "colab": {
          "base_uri": "https://localhost:8080/",
          "height": 424
        },
        "id": "tuQmhl_EcrOU",
        "outputId": "19bd6f3c-c81c-4cf4-d486-1832537cf35c"
      },
      "outputs": [
        {
          "output_type": "execute_result",
          "data": {
            "text/plain": [
              "         step  type    amount     nameOrig  oldbalanceOrg  newbalanceOrig  \\\n",
              "0           1     2   9839.64  C1231006815       170136.0       160296.36   \n",
              "1           1     2   1864.28  C1666544295        21249.0        19384.72   \n",
              "4           1     2  11668.14  C2048537720        41554.0        29885.86   \n",
              "5           1     2   7817.71    C90045638        53860.0        46042.29   \n",
              "6           1     2   7107.77   C154988899       183195.0       176087.23   \n",
              "...       ...   ...       ...          ...            ...             ...   \n",
              "6362312   718     2   8178.01  C1213413071        11742.0         3563.99   \n",
              "6362314   718     2  17841.23  C1045048098        10182.0            0.00   \n",
              "6362316   718     2   1022.91  C1203084509           12.0            0.00   \n",
              "6362318   718     2   4109.57   C673558958         5521.0         1411.43   \n",
              "6362319   718     2   8634.29   C642813806       518802.0       510167.71   \n",
              "\n",
              "            nameDest  oldbalanceDest  newbalanceDest  isFraud  isFlaggedFraud  \n",
              "0        M1979787155             0.0             0.0        0               0  \n",
              "1        M2044282225             0.0             0.0        0               0  \n",
              "4        M1230701703             0.0             0.0        0               0  \n",
              "5         M573487274             0.0             0.0        0               0  \n",
              "6         M408069119             0.0             0.0        0               0  \n",
              "...              ...             ...             ...      ...             ...  \n",
              "6362312  M1112540487             0.0             0.0        0               0  \n",
              "6362314  M1878955882             0.0             0.0        0               0  \n",
              "6362316   M675916850             0.0             0.0        0               0  \n",
              "6362318  M1126011651             0.0             0.0        0               0  \n",
              "6362319   M747723689             0.0             0.0        0               0  \n",
              "\n",
              "[2151495 rows x 11 columns]"
            ],
            "text/html": [
              "\n",
              "  <div id=\"df-8f2b4956-c061-4767-bb35-61a90ab6c8dd\">\n",
              "    <div class=\"colab-df-container\">\n",
              "      <div>\n",
              "<style scoped>\n",
              "    .dataframe tbody tr th:only-of-type {\n",
              "        vertical-align: middle;\n",
              "    }\n",
              "\n",
              "    .dataframe tbody tr th {\n",
              "        vertical-align: top;\n",
              "    }\n",
              "\n",
              "    .dataframe thead th {\n",
              "        text-align: right;\n",
              "    }\n",
              "</style>\n",
              "<table border=\"1\" class=\"dataframe\">\n",
              "  <thead>\n",
              "    <tr style=\"text-align: right;\">\n",
              "      <th></th>\n",
              "      <th>step</th>\n",
              "      <th>type</th>\n",
              "      <th>amount</th>\n",
              "      <th>nameOrig</th>\n",
              "      <th>oldbalanceOrg</th>\n",
              "      <th>newbalanceOrig</th>\n",
              "      <th>nameDest</th>\n",
              "      <th>oldbalanceDest</th>\n",
              "      <th>newbalanceDest</th>\n",
              "      <th>isFraud</th>\n",
              "      <th>isFlaggedFraud</th>\n",
              "    </tr>\n",
              "  </thead>\n",
              "  <tbody>\n",
              "    <tr>\n",
              "      <th>0</th>\n",
              "      <td>1</td>\n",
              "      <td>2</td>\n",
              "      <td>9839.64</td>\n",
              "      <td>C1231006815</td>\n",
              "      <td>170136.0</td>\n",
              "      <td>160296.36</td>\n",
              "      <td>M1979787155</td>\n",
              "      <td>0.0</td>\n",
              "      <td>0.0</td>\n",
              "      <td>0</td>\n",
              "      <td>0</td>\n",
              "    </tr>\n",
              "    <tr>\n",
              "      <th>1</th>\n",
              "      <td>1</td>\n",
              "      <td>2</td>\n",
              "      <td>1864.28</td>\n",
              "      <td>C1666544295</td>\n",
              "      <td>21249.0</td>\n",
              "      <td>19384.72</td>\n",
              "      <td>M2044282225</td>\n",
              "      <td>0.0</td>\n",
              "      <td>0.0</td>\n",
              "      <td>0</td>\n",
              "      <td>0</td>\n",
              "    </tr>\n",
              "    <tr>\n",
              "      <th>4</th>\n",
              "      <td>1</td>\n",
              "      <td>2</td>\n",
              "      <td>11668.14</td>\n",
              "      <td>C2048537720</td>\n",
              "      <td>41554.0</td>\n",
              "      <td>29885.86</td>\n",
              "      <td>M1230701703</td>\n",
              "      <td>0.0</td>\n",
              "      <td>0.0</td>\n",
              "      <td>0</td>\n",
              "      <td>0</td>\n",
              "    </tr>\n",
              "    <tr>\n",
              "      <th>5</th>\n",
              "      <td>1</td>\n",
              "      <td>2</td>\n",
              "      <td>7817.71</td>\n",
              "      <td>C90045638</td>\n",
              "      <td>53860.0</td>\n",
              "      <td>46042.29</td>\n",
              "      <td>M573487274</td>\n",
              "      <td>0.0</td>\n",
              "      <td>0.0</td>\n",
              "      <td>0</td>\n",
              "      <td>0</td>\n",
              "    </tr>\n",
              "    <tr>\n",
              "      <th>6</th>\n",
              "      <td>1</td>\n",
              "      <td>2</td>\n",
              "      <td>7107.77</td>\n",
              "      <td>C154988899</td>\n",
              "      <td>183195.0</td>\n",
              "      <td>176087.23</td>\n",
              "      <td>M408069119</td>\n",
              "      <td>0.0</td>\n",
              "      <td>0.0</td>\n",
              "      <td>0</td>\n",
              "      <td>0</td>\n",
              "    </tr>\n",
              "    <tr>\n",
              "      <th>...</th>\n",
              "      <td>...</td>\n",
              "      <td>...</td>\n",
              "      <td>...</td>\n",
              "      <td>...</td>\n",
              "      <td>...</td>\n",
              "      <td>...</td>\n",
              "      <td>...</td>\n",
              "      <td>...</td>\n",
              "      <td>...</td>\n",
              "      <td>...</td>\n",
              "      <td>...</td>\n",
              "    </tr>\n",
              "    <tr>\n",
              "      <th>6362312</th>\n",
              "      <td>718</td>\n",
              "      <td>2</td>\n",
              "      <td>8178.01</td>\n",
              "      <td>C1213413071</td>\n",
              "      <td>11742.0</td>\n",
              "      <td>3563.99</td>\n",
              "      <td>M1112540487</td>\n",
              "      <td>0.0</td>\n",
              "      <td>0.0</td>\n",
              "      <td>0</td>\n",
              "      <td>0</td>\n",
              "    </tr>\n",
              "    <tr>\n",
              "      <th>6362314</th>\n",
              "      <td>718</td>\n",
              "      <td>2</td>\n",
              "      <td>17841.23</td>\n",
              "      <td>C1045048098</td>\n",
              "      <td>10182.0</td>\n",
              "      <td>0.00</td>\n",
              "      <td>M1878955882</td>\n",
              "      <td>0.0</td>\n",
              "      <td>0.0</td>\n",
              "      <td>0</td>\n",
              "      <td>0</td>\n",
              "    </tr>\n",
              "    <tr>\n",
              "      <th>6362316</th>\n",
              "      <td>718</td>\n",
              "      <td>2</td>\n",
              "      <td>1022.91</td>\n",
              "      <td>C1203084509</td>\n",
              "      <td>12.0</td>\n",
              "      <td>0.00</td>\n",
              "      <td>M675916850</td>\n",
              "      <td>0.0</td>\n",
              "      <td>0.0</td>\n",
              "      <td>0</td>\n",
              "      <td>0</td>\n",
              "    </tr>\n",
              "    <tr>\n",
              "      <th>6362318</th>\n",
              "      <td>718</td>\n",
              "      <td>2</td>\n",
              "      <td>4109.57</td>\n",
              "      <td>C673558958</td>\n",
              "      <td>5521.0</td>\n",
              "      <td>1411.43</td>\n",
              "      <td>M1126011651</td>\n",
              "      <td>0.0</td>\n",
              "      <td>0.0</td>\n",
              "      <td>0</td>\n",
              "      <td>0</td>\n",
              "    </tr>\n",
              "    <tr>\n",
              "      <th>6362319</th>\n",
              "      <td>718</td>\n",
              "      <td>2</td>\n",
              "      <td>8634.29</td>\n",
              "      <td>C642813806</td>\n",
              "      <td>518802.0</td>\n",
              "      <td>510167.71</td>\n",
              "      <td>M747723689</td>\n",
              "      <td>0.0</td>\n",
              "      <td>0.0</td>\n",
              "      <td>0</td>\n",
              "      <td>0</td>\n",
              "    </tr>\n",
              "  </tbody>\n",
              "</table>\n",
              "<p>2151495 rows × 11 columns</p>\n",
              "</div>\n",
              "      <button class=\"colab-df-convert\" onclick=\"convertToInteractive('df-8f2b4956-c061-4767-bb35-61a90ab6c8dd')\"\n",
              "              title=\"Convert this dataframe to an interactive table.\"\n",
              "              style=\"display:none;\">\n",
              "        \n",
              "  <svg xmlns=\"http://www.w3.org/2000/svg\" height=\"24px\"viewBox=\"0 0 24 24\"\n",
              "       width=\"24px\">\n",
              "    <path d=\"M0 0h24v24H0V0z\" fill=\"none\"/>\n",
              "    <path d=\"M18.56 5.44l.94 2.06.94-2.06 2.06-.94-2.06-.94-.94-2.06-.94 2.06-2.06.94zm-11 1L8.5 8.5l.94-2.06 2.06-.94-2.06-.94L8.5 2.5l-.94 2.06-2.06.94zm10 10l.94 2.06.94-2.06 2.06-.94-2.06-.94-.94-2.06-.94 2.06-2.06.94z\"/><path d=\"M17.41 7.96l-1.37-1.37c-.4-.4-.92-.59-1.43-.59-.52 0-1.04.2-1.43.59L10.3 9.45l-7.72 7.72c-.78.78-.78 2.05 0 2.83L4 21.41c.39.39.9.59 1.41.59.51 0 1.02-.2 1.41-.59l7.78-7.78 2.81-2.81c.8-.78.8-2.07 0-2.86zM5.41 20L4 18.59l7.72-7.72 1.47 1.35L5.41 20z\"/>\n",
              "  </svg>\n",
              "      </button>\n",
              "      \n",
              "  <style>\n",
              "    .colab-df-container {\n",
              "      display:flex;\n",
              "      flex-wrap:wrap;\n",
              "      gap: 12px;\n",
              "    }\n",
              "\n",
              "    .colab-df-convert {\n",
              "      background-color: #E8F0FE;\n",
              "      border: none;\n",
              "      border-radius: 50%;\n",
              "      cursor: pointer;\n",
              "      display: none;\n",
              "      fill: #1967D2;\n",
              "      height: 32px;\n",
              "      padding: 0 0 0 0;\n",
              "      width: 32px;\n",
              "    }\n",
              "\n",
              "    .colab-df-convert:hover {\n",
              "      background-color: #E2EBFA;\n",
              "      box-shadow: 0px 1px 2px rgba(60, 64, 67, 0.3), 0px 1px 3px 1px rgba(60, 64, 67, 0.15);\n",
              "      fill: #174EA6;\n",
              "    }\n",
              "\n",
              "    [theme=dark] .colab-df-convert {\n",
              "      background-color: #3B4455;\n",
              "      fill: #D2E3FC;\n",
              "    }\n",
              "\n",
              "    [theme=dark] .colab-df-convert:hover {\n",
              "      background-color: #434B5C;\n",
              "      box-shadow: 0px 1px 3px 1px rgba(0, 0, 0, 0.15);\n",
              "      filter: drop-shadow(0px 1px 2px rgba(0, 0, 0, 0.3));\n",
              "      fill: #FFFFFF;\n",
              "    }\n",
              "  </style>\n",
              "\n",
              "      <script>\n",
              "        const buttonEl =\n",
              "          document.querySelector('#df-8f2b4956-c061-4767-bb35-61a90ab6c8dd button.colab-df-convert');\n",
              "        buttonEl.style.display =\n",
              "          google.colab.kernel.accessAllowed ? 'block' : 'none';\n",
              "\n",
              "        async function convertToInteractive(key) {\n",
              "          const element = document.querySelector('#df-8f2b4956-c061-4767-bb35-61a90ab6c8dd');\n",
              "          const dataTable =\n",
              "            await google.colab.kernel.invokeFunction('convertToInteractive',\n",
              "                                                     [key], {});\n",
              "          if (!dataTable) return;\n",
              "\n",
              "          const docLinkHtml = 'Like what you see? Visit the ' +\n",
              "            '<a target=\"_blank\" href=https://colab.research.google.com/notebooks/data_table.ipynb>data table notebook</a>'\n",
              "            + ' to learn more about interactive tables.';\n",
              "          element.innerHTML = '';\n",
              "          dataTable['output_type'] = 'display_data';\n",
              "          await google.colab.output.renderOutput(dataTable, element);\n",
              "          const docLink = document.createElement('div');\n",
              "          docLink.innerHTML = docLinkHtml;\n",
              "          element.appendChild(docLink);\n",
              "        }\n",
              "      </script>\n",
              "    </div>\n",
              "  </div>\n",
              "  "
            ]
          },
          "metadata": {},
          "execution_count": 7
        }
      ],
      "source": [
        "pd_series = pd.Series(data['nameDest'])\n",
        "data.loc[(pd_series.str.startswith('M',na=False))]"
      ]
    },
    {
      "cell_type": "markdown",
      "metadata": {
        "id": "9vLFhuzeLnsH"
      },
      "source": [
        "Vemos que do total de 6362620 linhas, 2151495 são Merchants, ou seja, 2151495/6362620 = 0.338 = 33.8% dos dados, o que é uma quantidade significativa."
      ]
    },
    {
      "cell_type": "markdown",
      "metadata": {
        "id": "LqYVppshYCXr"
      },
      "source": [
        "- Vamos verificar se existem casos de fraude para os recebedores classificados como Merchants:"
      ]
    },
    {
      "cell_type": "code",
      "execution_count": null,
      "metadata": {
        "colab": {
          "base_uri": "https://localhost:8080/",
          "height": 49
        },
        "id": "0K3ggO2JX_Xt",
        "outputId": "327d14cd-f879-4427-85fc-f4e4650a5687"
      },
      "outputs": [
        {
          "output_type": "execute_result",
          "data": {
            "text/plain": [
              "Empty DataFrame\n",
              "Columns: [step, type, amount, nameOrig, oldbalanceOrg, newbalanceOrig, nameDest, oldbalanceDest, newbalanceDest, isFraud, isFlaggedFraud]\n",
              "Index: []"
            ],
            "text/html": [
              "\n",
              "  <div id=\"df-cd172e29-2fa5-4d33-9739-bd78778a1a77\">\n",
              "    <div class=\"colab-df-container\">\n",
              "      <div>\n",
              "<style scoped>\n",
              "    .dataframe tbody tr th:only-of-type {\n",
              "        vertical-align: middle;\n",
              "    }\n",
              "\n",
              "    .dataframe tbody tr th {\n",
              "        vertical-align: top;\n",
              "    }\n",
              "\n",
              "    .dataframe thead th {\n",
              "        text-align: right;\n",
              "    }\n",
              "</style>\n",
              "<table border=\"1\" class=\"dataframe\">\n",
              "  <thead>\n",
              "    <tr style=\"text-align: right;\">\n",
              "      <th></th>\n",
              "      <th>step</th>\n",
              "      <th>type</th>\n",
              "      <th>amount</th>\n",
              "      <th>nameOrig</th>\n",
              "      <th>oldbalanceOrg</th>\n",
              "      <th>newbalanceOrig</th>\n",
              "      <th>nameDest</th>\n",
              "      <th>oldbalanceDest</th>\n",
              "      <th>newbalanceDest</th>\n",
              "      <th>isFraud</th>\n",
              "      <th>isFlaggedFraud</th>\n",
              "    </tr>\n",
              "  </thead>\n",
              "  <tbody>\n",
              "  </tbody>\n",
              "</table>\n",
              "</div>\n",
              "      <button class=\"colab-df-convert\" onclick=\"convertToInteractive('df-cd172e29-2fa5-4d33-9739-bd78778a1a77')\"\n",
              "              title=\"Convert this dataframe to an interactive table.\"\n",
              "              style=\"display:none;\">\n",
              "        \n",
              "  <svg xmlns=\"http://www.w3.org/2000/svg\" height=\"24px\"viewBox=\"0 0 24 24\"\n",
              "       width=\"24px\">\n",
              "    <path d=\"M0 0h24v24H0V0z\" fill=\"none\"/>\n",
              "    <path d=\"M18.56 5.44l.94 2.06.94-2.06 2.06-.94-2.06-.94-.94-2.06-.94 2.06-2.06.94zm-11 1L8.5 8.5l.94-2.06 2.06-.94-2.06-.94L8.5 2.5l-.94 2.06-2.06.94zm10 10l.94 2.06.94-2.06 2.06-.94-2.06-.94-.94-2.06-.94 2.06-2.06.94z\"/><path d=\"M17.41 7.96l-1.37-1.37c-.4-.4-.92-.59-1.43-.59-.52 0-1.04.2-1.43.59L10.3 9.45l-7.72 7.72c-.78.78-.78 2.05 0 2.83L4 21.41c.39.39.9.59 1.41.59.51 0 1.02-.2 1.41-.59l7.78-7.78 2.81-2.81c.8-.78.8-2.07 0-2.86zM5.41 20L4 18.59l7.72-7.72 1.47 1.35L5.41 20z\"/>\n",
              "  </svg>\n",
              "      </button>\n",
              "      \n",
              "  <style>\n",
              "    .colab-df-container {\n",
              "      display:flex;\n",
              "      flex-wrap:wrap;\n",
              "      gap: 12px;\n",
              "    }\n",
              "\n",
              "    .colab-df-convert {\n",
              "      background-color: #E8F0FE;\n",
              "      border: none;\n",
              "      border-radius: 50%;\n",
              "      cursor: pointer;\n",
              "      display: none;\n",
              "      fill: #1967D2;\n",
              "      height: 32px;\n",
              "      padding: 0 0 0 0;\n",
              "      width: 32px;\n",
              "    }\n",
              "\n",
              "    .colab-df-convert:hover {\n",
              "      background-color: #E2EBFA;\n",
              "      box-shadow: 0px 1px 2px rgba(60, 64, 67, 0.3), 0px 1px 3px 1px rgba(60, 64, 67, 0.15);\n",
              "      fill: #174EA6;\n",
              "    }\n",
              "\n",
              "    [theme=dark] .colab-df-convert {\n",
              "      background-color: #3B4455;\n",
              "      fill: #D2E3FC;\n",
              "    }\n",
              "\n",
              "    [theme=dark] .colab-df-convert:hover {\n",
              "      background-color: #434B5C;\n",
              "      box-shadow: 0px 1px 3px 1px rgba(0, 0, 0, 0.15);\n",
              "      filter: drop-shadow(0px 1px 2px rgba(0, 0, 0, 0.3));\n",
              "      fill: #FFFFFF;\n",
              "    }\n",
              "  </style>\n",
              "\n",
              "      <script>\n",
              "        const buttonEl =\n",
              "          document.querySelector('#df-cd172e29-2fa5-4d33-9739-bd78778a1a77 button.colab-df-convert');\n",
              "        buttonEl.style.display =\n",
              "          google.colab.kernel.accessAllowed ? 'block' : 'none';\n",
              "\n",
              "        async function convertToInteractive(key) {\n",
              "          const element = document.querySelector('#df-cd172e29-2fa5-4d33-9739-bd78778a1a77');\n",
              "          const dataTable =\n",
              "            await google.colab.kernel.invokeFunction('convertToInteractive',\n",
              "                                                     [key], {});\n",
              "          if (!dataTable) return;\n",
              "\n",
              "          const docLinkHtml = 'Like what you see? Visit the ' +\n",
              "            '<a target=\"_blank\" href=https://colab.research.google.com/notebooks/data_table.ipynb>data table notebook</a>'\n",
              "            + ' to learn more about interactive tables.';\n",
              "          element.innerHTML = '';\n",
              "          dataTable['output_type'] = 'display_data';\n",
              "          await google.colab.output.renderOutput(dataTable, element);\n",
              "          const docLink = document.createElement('div');\n",
              "          docLink.innerHTML = docLinkHtml;\n",
              "          element.appendChild(docLink);\n",
              "        }\n",
              "      </script>\n",
              "    </div>\n",
              "  </div>\n",
              "  "
            ]
          },
          "metadata": {},
          "execution_count": 8
        }
      ],
      "source": [
        "pd_series = pd.Series(data['nameDest'])\n",
        "M_df = data.loc[(pd_series.str.startswith('M',na=False)) & (data['isFraud']==1)]\n",
        "M_df"
      ]
    },
    {
      "cell_type": "markdown",
      "metadata": {
        "id": "kcKdZiQ1YWQu"
      },
      "source": [
        "Podemos observar que não existem fraudes para os Merchants, e como não possuímos informações sobre eles sobre saldo anterior e posterior podemos concluir que eles podem não ser significantes para modelarmos os classificadores.\n",
        "\n",
        "Dito isso, iremos eliminar as linhas contendo os Merchants dos dados e realizar a classificação com eles e em seguida sem eles para verificar qual modelo será mais adequado.\n",
        "\n",
        "O data frame sem os Merchants é da forma:"
      ]
    },
    {
      "cell_type": "code",
      "execution_count": null,
      "metadata": {
        "colab": {
          "base_uri": "https://localhost:8080/",
          "height": 424
        },
        "id": "gSvwk1OzYV60",
        "outputId": "8adf0cdb-df81-4c9e-efa9-25e9d66425bf"
      },
      "outputs": [
        {
          "output_type": "execute_result",
          "data": {
            "text/plain": [
              "         step  type      amount     nameOrig  oldbalanceOrg  newbalanceOrig  \\\n",
              "2           1     4      181.00  C1305486145         181.00            0.00   \n",
              "3           1     1      181.00   C840083671         181.00            0.00   \n",
              "9           1     5     5337.77   C712410124       41720.00        36382.23   \n",
              "10          1     5     9644.94  C1900366749        4465.00            0.00   \n",
              "15          1     1   229133.94   C905080434       15325.00            0.00   \n",
              "...       ...   ...         ...          ...            ...             ...   \n",
              "6362615   743     1   339682.13   C786484425      339682.13            0.00   \n",
              "6362616   743     4  6311409.28  C1529008245     6311409.28            0.00   \n",
              "6362617   743     1  6311409.28  C1162922333     6311409.28            0.00   \n",
              "6362618   743     4   850002.52  C1685995037      850002.52            0.00   \n",
              "6362619   743     1   850002.52  C1280323807      850002.52            0.00   \n",
              "\n",
              "            nameDest  oldbalanceDest  newbalanceDest  isFraud  isFlaggedFraud  \n",
              "2         C553264065            0.00            0.00        1               0  \n",
              "3          C38997010        21182.00            0.00        1               0  \n",
              "9         C195600860        41898.00        40348.79        0               0  \n",
              "10        C997608398        10845.00       157982.12        0               0  \n",
              "15        C476402209         5083.00        51513.44        0               0  \n",
              "...              ...             ...             ...      ...             ...  \n",
              "6362615   C776919290            0.00       339682.13        1               0  \n",
              "6362616  C1881841831            0.00            0.00        1               0  \n",
              "6362617  C1365125890        68488.84      6379898.11        1               0  \n",
              "6362618  C2080388513            0.00            0.00        1               0  \n",
              "6362619   C873221189      6510099.11      7360101.63        1               0  \n",
              "\n",
              "[4211125 rows x 11 columns]"
            ],
            "text/html": [
              "\n",
              "  <div id=\"df-97bf8719-5d70-4098-927c-b3ee2033f4cf\">\n",
              "    <div class=\"colab-df-container\">\n",
              "      <div>\n",
              "<style scoped>\n",
              "    .dataframe tbody tr th:only-of-type {\n",
              "        vertical-align: middle;\n",
              "    }\n",
              "\n",
              "    .dataframe tbody tr th {\n",
              "        vertical-align: top;\n",
              "    }\n",
              "\n",
              "    .dataframe thead th {\n",
              "        text-align: right;\n",
              "    }\n",
              "</style>\n",
              "<table border=\"1\" class=\"dataframe\">\n",
              "  <thead>\n",
              "    <tr style=\"text-align: right;\">\n",
              "      <th></th>\n",
              "      <th>step</th>\n",
              "      <th>type</th>\n",
              "      <th>amount</th>\n",
              "      <th>nameOrig</th>\n",
              "      <th>oldbalanceOrg</th>\n",
              "      <th>newbalanceOrig</th>\n",
              "      <th>nameDest</th>\n",
              "      <th>oldbalanceDest</th>\n",
              "      <th>newbalanceDest</th>\n",
              "      <th>isFraud</th>\n",
              "      <th>isFlaggedFraud</th>\n",
              "    </tr>\n",
              "  </thead>\n",
              "  <tbody>\n",
              "    <tr>\n",
              "      <th>2</th>\n",
              "      <td>1</td>\n",
              "      <td>4</td>\n",
              "      <td>181.00</td>\n",
              "      <td>C1305486145</td>\n",
              "      <td>181.00</td>\n",
              "      <td>0.00</td>\n",
              "      <td>C553264065</td>\n",
              "      <td>0.00</td>\n",
              "      <td>0.00</td>\n",
              "      <td>1</td>\n",
              "      <td>0</td>\n",
              "    </tr>\n",
              "    <tr>\n",
              "      <th>3</th>\n",
              "      <td>1</td>\n",
              "      <td>1</td>\n",
              "      <td>181.00</td>\n",
              "      <td>C840083671</td>\n",
              "      <td>181.00</td>\n",
              "      <td>0.00</td>\n",
              "      <td>C38997010</td>\n",
              "      <td>21182.00</td>\n",
              "      <td>0.00</td>\n",
              "      <td>1</td>\n",
              "      <td>0</td>\n",
              "    </tr>\n",
              "    <tr>\n",
              "      <th>9</th>\n",
              "      <td>1</td>\n",
              "      <td>5</td>\n",
              "      <td>5337.77</td>\n",
              "      <td>C712410124</td>\n",
              "      <td>41720.00</td>\n",
              "      <td>36382.23</td>\n",
              "      <td>C195600860</td>\n",
              "      <td>41898.00</td>\n",
              "      <td>40348.79</td>\n",
              "      <td>0</td>\n",
              "      <td>0</td>\n",
              "    </tr>\n",
              "    <tr>\n",
              "      <th>10</th>\n",
              "      <td>1</td>\n",
              "      <td>5</td>\n",
              "      <td>9644.94</td>\n",
              "      <td>C1900366749</td>\n",
              "      <td>4465.00</td>\n",
              "      <td>0.00</td>\n",
              "      <td>C997608398</td>\n",
              "      <td>10845.00</td>\n",
              "      <td>157982.12</td>\n",
              "      <td>0</td>\n",
              "      <td>0</td>\n",
              "    </tr>\n",
              "    <tr>\n",
              "      <th>15</th>\n",
              "      <td>1</td>\n",
              "      <td>1</td>\n",
              "      <td>229133.94</td>\n",
              "      <td>C905080434</td>\n",
              "      <td>15325.00</td>\n",
              "      <td>0.00</td>\n",
              "      <td>C476402209</td>\n",
              "      <td>5083.00</td>\n",
              "      <td>51513.44</td>\n",
              "      <td>0</td>\n",
              "      <td>0</td>\n",
              "    </tr>\n",
              "    <tr>\n",
              "      <th>...</th>\n",
              "      <td>...</td>\n",
              "      <td>...</td>\n",
              "      <td>...</td>\n",
              "      <td>...</td>\n",
              "      <td>...</td>\n",
              "      <td>...</td>\n",
              "      <td>...</td>\n",
              "      <td>...</td>\n",
              "      <td>...</td>\n",
              "      <td>...</td>\n",
              "      <td>...</td>\n",
              "    </tr>\n",
              "    <tr>\n",
              "      <th>6362615</th>\n",
              "      <td>743</td>\n",
              "      <td>1</td>\n",
              "      <td>339682.13</td>\n",
              "      <td>C786484425</td>\n",
              "      <td>339682.13</td>\n",
              "      <td>0.00</td>\n",
              "      <td>C776919290</td>\n",
              "      <td>0.00</td>\n",
              "      <td>339682.13</td>\n",
              "      <td>1</td>\n",
              "      <td>0</td>\n",
              "    </tr>\n",
              "    <tr>\n",
              "      <th>6362616</th>\n",
              "      <td>743</td>\n",
              "      <td>4</td>\n",
              "      <td>6311409.28</td>\n",
              "      <td>C1529008245</td>\n",
              "      <td>6311409.28</td>\n",
              "      <td>0.00</td>\n",
              "      <td>C1881841831</td>\n",
              "      <td>0.00</td>\n",
              "      <td>0.00</td>\n",
              "      <td>1</td>\n",
              "      <td>0</td>\n",
              "    </tr>\n",
              "    <tr>\n",
              "      <th>6362617</th>\n",
              "      <td>743</td>\n",
              "      <td>1</td>\n",
              "      <td>6311409.28</td>\n",
              "      <td>C1162922333</td>\n",
              "      <td>6311409.28</td>\n",
              "      <td>0.00</td>\n",
              "      <td>C1365125890</td>\n",
              "      <td>68488.84</td>\n",
              "      <td>6379898.11</td>\n",
              "      <td>1</td>\n",
              "      <td>0</td>\n",
              "    </tr>\n",
              "    <tr>\n",
              "      <th>6362618</th>\n",
              "      <td>743</td>\n",
              "      <td>4</td>\n",
              "      <td>850002.52</td>\n",
              "      <td>C1685995037</td>\n",
              "      <td>850002.52</td>\n",
              "      <td>0.00</td>\n",
              "      <td>C2080388513</td>\n",
              "      <td>0.00</td>\n",
              "      <td>0.00</td>\n",
              "      <td>1</td>\n",
              "      <td>0</td>\n",
              "    </tr>\n",
              "    <tr>\n",
              "      <th>6362619</th>\n",
              "      <td>743</td>\n",
              "      <td>1</td>\n",
              "      <td>850002.52</td>\n",
              "      <td>C1280323807</td>\n",
              "      <td>850002.52</td>\n",
              "      <td>0.00</td>\n",
              "      <td>C873221189</td>\n",
              "      <td>6510099.11</td>\n",
              "      <td>7360101.63</td>\n",
              "      <td>1</td>\n",
              "      <td>0</td>\n",
              "    </tr>\n",
              "  </tbody>\n",
              "</table>\n",
              "<p>4211125 rows × 11 columns</p>\n",
              "</div>\n",
              "      <button class=\"colab-df-convert\" onclick=\"convertToInteractive('df-97bf8719-5d70-4098-927c-b3ee2033f4cf')\"\n",
              "              title=\"Convert this dataframe to an interactive table.\"\n",
              "              style=\"display:none;\">\n",
              "        \n",
              "  <svg xmlns=\"http://www.w3.org/2000/svg\" height=\"24px\"viewBox=\"0 0 24 24\"\n",
              "       width=\"24px\">\n",
              "    <path d=\"M0 0h24v24H0V0z\" fill=\"none\"/>\n",
              "    <path d=\"M18.56 5.44l.94 2.06.94-2.06 2.06-.94-2.06-.94-.94-2.06-.94 2.06-2.06.94zm-11 1L8.5 8.5l.94-2.06 2.06-.94-2.06-.94L8.5 2.5l-.94 2.06-2.06.94zm10 10l.94 2.06.94-2.06 2.06-.94-2.06-.94-.94-2.06-.94 2.06-2.06.94z\"/><path d=\"M17.41 7.96l-1.37-1.37c-.4-.4-.92-.59-1.43-.59-.52 0-1.04.2-1.43.59L10.3 9.45l-7.72 7.72c-.78.78-.78 2.05 0 2.83L4 21.41c.39.39.9.59 1.41.59.51 0 1.02-.2 1.41-.59l7.78-7.78 2.81-2.81c.8-.78.8-2.07 0-2.86zM5.41 20L4 18.59l7.72-7.72 1.47 1.35L5.41 20z\"/>\n",
              "  </svg>\n",
              "      </button>\n",
              "      \n",
              "  <style>\n",
              "    .colab-df-container {\n",
              "      display:flex;\n",
              "      flex-wrap:wrap;\n",
              "      gap: 12px;\n",
              "    }\n",
              "\n",
              "    .colab-df-convert {\n",
              "      background-color: #E8F0FE;\n",
              "      border: none;\n",
              "      border-radius: 50%;\n",
              "      cursor: pointer;\n",
              "      display: none;\n",
              "      fill: #1967D2;\n",
              "      height: 32px;\n",
              "      padding: 0 0 0 0;\n",
              "      width: 32px;\n",
              "    }\n",
              "\n",
              "    .colab-df-convert:hover {\n",
              "      background-color: #E2EBFA;\n",
              "      box-shadow: 0px 1px 2px rgba(60, 64, 67, 0.3), 0px 1px 3px 1px rgba(60, 64, 67, 0.15);\n",
              "      fill: #174EA6;\n",
              "    }\n",
              "\n",
              "    [theme=dark] .colab-df-convert {\n",
              "      background-color: #3B4455;\n",
              "      fill: #D2E3FC;\n",
              "    }\n",
              "\n",
              "    [theme=dark] .colab-df-convert:hover {\n",
              "      background-color: #434B5C;\n",
              "      box-shadow: 0px 1px 3px 1px rgba(0, 0, 0, 0.15);\n",
              "      filter: drop-shadow(0px 1px 2px rgba(0, 0, 0, 0.3));\n",
              "      fill: #FFFFFF;\n",
              "    }\n",
              "  </style>\n",
              "\n",
              "      <script>\n",
              "        const buttonEl =\n",
              "          document.querySelector('#df-97bf8719-5d70-4098-927c-b3ee2033f4cf button.colab-df-convert');\n",
              "        buttonEl.style.display =\n",
              "          google.colab.kernel.accessAllowed ? 'block' : 'none';\n",
              "\n",
              "        async function convertToInteractive(key) {\n",
              "          const element = document.querySelector('#df-97bf8719-5d70-4098-927c-b3ee2033f4cf');\n",
              "          const dataTable =\n",
              "            await google.colab.kernel.invokeFunction('convertToInteractive',\n",
              "                                                     [key], {});\n",
              "          if (!dataTable) return;\n",
              "\n",
              "          const docLinkHtml = 'Like what you see? Visit the ' +\n",
              "            '<a target=\"_blank\" href=https://colab.research.google.com/notebooks/data_table.ipynb>data table notebook</a>'\n",
              "            + ' to learn more about interactive tables.';\n",
              "          element.innerHTML = '';\n",
              "          dataTable['output_type'] = 'display_data';\n",
              "          await google.colab.output.renderOutput(dataTable, element);\n",
              "          const docLink = document.createElement('div');\n",
              "          docLink.innerHTML = docLinkHtml;\n",
              "          element.appendChild(docLink);\n",
              "        }\n",
              "      </script>\n",
              "    </div>\n",
              "  </div>\n",
              "  "
            ]
          },
          "metadata": {},
          "execution_count": 9
        }
      ],
      "source": [
        "pd_series = pd.Series(data['nameDest'])\n",
        "no_M_df = data.loc[~(pd_series.str.startswith('M',na=False))]\n",
        "no_M_df"
      ]
    },
    {
      "cell_type": "markdown",
      "source": [
        "- Vamos verficar a quantidade de fraudes e não fraudes para os dados com os merchants"
      ],
      "metadata": {
        "id": "QSx1aUe41N8X"
      }
    },
    {
      "cell_type": "code",
      "execution_count": null,
      "metadata": {
        "colab": {
          "base_uri": "https://localhost:8080/",
          "height": 311
        },
        "id": "4l3i6tJdc06F",
        "outputId": "c7807243-176e-4127-9d6c-82a4f7ab6d6f"
      },
      "outputs": [
        {
          "output_type": "display_data",
          "data": {
            "text/plain": [
              "<Figure size 432x288 with 1 Axes>"
            ],
            "image/png": "[encoded data removed]"
          },
          "metadata": {
            "needs_background": "light"
          }
        },
        {
          "output_type": "stream",
          "name": "stdout",
          "text": [
            "Fraudes: 8213\n",
            "Não Fraudes: 6354407\n"
          ]
        }
      ],
      "source": [
        "# Fraude vs Não Fraude com os Merchants\n",
        "h = [sum(data['isFraud']==1), sum(data['isFraud']==0)]\n",
        "b = ('Fraude', 'Não Fraude')\n",
        "y_pos = np.arange(len(b))\n",
        "plt.figure(figsize=(6, 4))\n",
        "plt.bar(y_pos, h)\n",
        "plt.xticks(y_pos, b)\n",
        "plt.show()\n",
        "\n",
        "print(\"Fraudes:\",sum(data['isFraud']==1))\n",
        "print(\"Não Fraudes:\",sum(data['isFraud']==0)) "
      ]
    },
    {
      "cell_type": "markdown",
      "source": [
        "- Vamos verficar a quantidade de fraudes e não fraudes para os dados sem os merchants"
      ],
      "metadata": {
        "id": "pm55oQc91k_u"
      }
    },
    {
      "cell_type": "code",
      "execution_count": null,
      "metadata": {
        "colab": {
          "base_uri": "https://localhost:8080/",
          "height": 311
        },
        "id": "McYIJfaec2Uj",
        "outputId": "ae584d82-80c6-4aae-88cd-7c7f3eda0720"
      },
      "outputs": [
        {
          "output_type": "display_data",
          "data": {
            "text/plain": [
              "<Figure size 432x288 with 1 Axes>"
            ],
            "image/png": "[encoded data removed]"
          },
          "metadata": {
            "needs_background": "light"
          }
        },
        {
          "output_type": "stream",
          "name": "stdout",
          "text": [
            "Fraudes: 8213\n",
            "Não Fraudes: 4202912\n"
          ]
        }
      ],
      "source": [
        "# Fraude vs Não Fraude sem os Merchants\n",
        "h = [sum(no_M_df['isFraud']==1), sum(no_M_df['isFraud']==0)]\n",
        "b = ('\"Fraude\"', '\"Não Fraude\"')\n",
        "y_pos = np.arange(len(b))\n",
        "plt.figure(figsize=(6, 4))\n",
        "plt.bar(y_pos, h)\n",
        "plt.xticks(y_pos, b)\n",
        "plt.show()\n",
        "\n",
        "print(\"Fraudes:\",sum(no_M_df['isFraud']==1))\n",
        "print(\"Não Fraudes:\",sum(no_M_df['isFraud']==0))  "
      ]
    },
    {
      "cell_type": "markdown",
      "metadata": {
        "id": "4573MKLZKMoy"
      },
      "source": [
        "## **3.2 Análise da distribuição dos tipos de transação**"
      ]
    },
    {
      "cell_type": "code",
      "execution_count": null,
      "metadata": {
        "colab": {
          "base_uri": "https://localhost:8080/",
          "height": 542
        },
        "id": "vS2aR8jLJ-NN",
        "outputId": "705ad2b4-376a-4a59-d121-41a908da8ca1"
      },
      "outputs": [
        {
          "data": {
            "text/html": [
              "<html>\n",
              "<head><meta charset=\"utf-8\" /></head>\n",
              "<body>\n",
              "    <div>            <script src=\"https://cdnjs.cloudflare.com/ajax/libs/mathjax/2.7.5/MathJax.js?config=TeX-AMS-MML_SVG\"></script><script type=\"text/javascript\">if (window.MathJax) {MathJax.Hub.Config({SVG: {font: \"STIX-Web\"}});}</script>                <script type=\"text/javascript\">window.PlotlyConfig = {MathJaxConfig: 'local'};</script>\n",
              "        <script src=\"https://cdn.plot.ly/plotly-2.8.3.min.js\"></script>                <div id=\"5d503388-f1d7-43f2-b64b-5b9d280b68a5\" class=\"plotly-graph-div\" style=\"height:525px; width:100%;\"></div>            <script type=\"text/javascript\">                                    window.PLOTLYENV=window.PLOTLYENV || {};                                    if (document.getElementById(\"5d503388-f1d7-43f2-b64b-5b9d280b68a5\")) {                    Plotly.newPlot(                        \"5d503388-f1d7-43f2-b64b-5b9d280b68a5\",                        [{\"domain\":{\"x\":[0.0,1.0],\"y\":[0.0,1.0]},\"hole\":0.5,\"hovertemplate\":\"label=%{label}<br>value=%{value}<extra></extra>\",\"labels\":[1,2,3,4,5],\"legendgroup\":\"\",\"name\":\"\",\"showlegend\":true,\"values\":[2237500,2151495,1399284,532909,41432],\"type\":\"pie\"}],                        {\"template\":{\"data\":{\"bar\":[{\"error_x\":{\"color\":\"#2a3f5f\"},\"error_y\":{\"color\":\"#2a3f5f\"},\"marker\":{\"line\":{\"color\":\"#E5ECF6\",\"width\":0.5},\"pattern\":{\"fillmode\":\"overlay\",\"size\":10,\"solidity\":0.2}},\"type\":\"bar\"}],\"barpolar\":[{\"marker\":{\"line\":{\"color\":\"#E5ECF6\",\"width\":0.5},\"pattern\":{\"fillmode\":\"overlay\",\"size\":10,\"solidity\":0.2}},\"type\":\"barpolar\"}],\"carpet\":[{\"aaxis\":{\"endlinecolor\":\"#2a3f5f\",\"gridcolor\":\"white\",\"linecolor\":\"white\",\"minorgridcolor\":\"white\",\"startlinecolor\":\"#2a3f5f\"},\"baxis\":{\"endlinecolor\":\"#2a3f5f\",\"gridcolor\":\"white\",\"linecolor\":\"white\",\"minorgridcolor\":\"white\",\"startlinecolor\":\"#2a3f5f\"},\"type\":\"carpet\"}],\"choropleth\":[{\"colorbar\":{\"outlinewidth\":0,\"ticks\":\"\"},\"type\":\"choropleth\"}],\"contour\":[{\"colorbar\":{\"outlinewidth\":0,\"ticks\":\"\"},\"colorscale\":[[0.0,\"#0d0887\"],[0.1111111111111111,\"#46039f\"],[0.2222222222222222,\"#7201a8\"],[0.3333333333333333,\"#9c179e\"],[0.4444444444444444,\"#bd3786\"],[0.5555555555555556,\"#d8576b\"],[0.6666666666666666,\"#ed7953\"],[0.7777777777777778,\"#fb9f3a\"],[0.8888888888888888,\"#fdca26\"],[1.0,\"#f0f921\"]],\"type\":\"contour\"}],\"contourcarpet\":[{\"colorbar\":{\"outlinewidth\":0,\"ticks\":\"\"},\"type\":\"contourcarpet\"}],\"heatmap\":[{\"colorbar\":{\"outlinewidth\":0,\"ticks\":\"\"},\"colorscale\":[[0.0,\"#0d0887\"],[0.1111111111111111,\"#46039f\"],[0.2222222222222222,\"#7201a8\"],[0.3333333333333333,\"#9c179e\"],[0.4444444444444444,\"#bd3786\"],[0.5555555555555556,\"#d8576b\"],[0.6666666666666666,\"#ed7953\"],[0.7777777777777778,\"#fb9f3a\"],[0.8888888888888888,\"#fdca26\"],[1.0,\"#f0f921\"]],\"type\":\"heatmap\"}],\"heatmapgl\":[{\"colorbar\":{\"outlinewidth\":0,\"ticks\":\"\"},\"colorscale\":[[0.0,\"#0d0887\"],[0.1111111111111111,\"#46039f\"],[0.2222222222222222,\"#7201a8\"],[0.3333333333333333,\"#9c179e\"],[0.4444444444444444,\"#bd3786\"],[0.5555555555555556,\"#d8576b\"],[0.6666666666666666,\"#ed7953\"],[0.7777777777777778,\"#fb9f3a\"],[0.8888888888888888,\"#fdca26\"],[1.0,\"#f0f921\"]],\"type\":\"heatmapgl\"}],\"histogram\":[{\"marker\":{\"pattern\":{\"fillmode\":\"overlay\",\"size\":10,\"solidity\":0.2}},\"type\":\"histogram\"}],\"histogram2d\":[{\"colorbar\":{\"outlinewidth\":0,\"ticks\":\"\"},\"colorscale\":[[0.0,\"#0d0887\"],[0.1111111111111111,\"#46039f\"],[0.2222222222222222,\"#7201a8\"],[0.3333333333333333,\"#9c179e\"],[0.4444444444444444,\"#bd3786\"],[0.5555555555555556,\"#d8576b\"],[0.6666666666666666,\"#ed7953\"],[0.7777777777777778,\"#fb9f3a\"],[0.8888888888888888,\"#fdca26\"],[1.0,\"#f0f921\"]],\"type\":\"histogram2d\"}],\"histogram2dcontour\":[{\"colorbar\":{\"outlinewidth\":0,\"ticks\":\"\"},\"colorscale\":[[0.0,\"#0d0887\"],[0.1111111111111111,\"#46039f\"],[0.2222222222222222,\"#7201a8\"],[0.3333333333333333,\"#9c179e\"],[0.4444444444444444,\"#bd3786\"],[0.5555555555555556,\"#d8576b\"],[0.6666666666666666,\"#ed7953\"],[0.7777777777777778,\"#fb9f3a\"],[0.8888888888888888,\"#fdca26\"],[1.0,\"#f0f921\"]],\"type\":\"histogram2dcontour\"}],\"mesh3d\":[{\"colorbar\":{\"outlinewidth\":0,\"ticks\":\"\"},\"type\":\"mesh3d\"}],\"parcoords\":[{\"line\":{\"colorbar\":{\"outlinewidth\":0,\"ticks\":\"\"}},\"type\":\"parcoords\"}],\"pie\":[{\"automargin\":true,\"type\":\"pie\"}],\"scatter\":[{\"marker\":{\"colorbar\":{\"outlinewidth\":0,\"ticks\":\"\"}},\"type\":\"scatter\"}],\"scatter3d\":[{\"line\":{\"colorbar\":{\"outlinewidth\":0,\"ticks\":\"\"}},\"marker\":{\"colorbar\":{\"outlinewidth\":0,\"ticks\":\"\"}},\"type\":\"scatter3d\"}],\"scattercarpet\":[{\"marker\":{\"colorbar\":{\"outlinewidth\":0,\"ticks\":\"\"}},\"type\":\"scattercarpet\"}],\"scattergeo\":[{\"marker\":{\"colorbar\":{\"outlinewidth\":0,\"ticks\":\"\"}},\"type\":\"scattergeo\"}],\"scattergl\":[{\"marker\":{\"colorbar\":{\"outlinewidth\":0,\"ticks\":\"\"}},\"type\":\"scattergl\"}],\"scattermapbox\":[{\"marker\":{\"colorbar\":{\"outlinewidth\":0,\"ticks\":\"\"}},\"type\":\"scattermapbox\"}],\"scatterpolar\":[{\"marker\":{\"colorbar\":{\"outlinewidth\":0,\"ticks\":\"\"}},\"type\":\"scatterpolar\"}],\"scatterpolargl\":[{\"marker\":{\"colorbar\":{\"outlinewidth\":0,\"ticks\":\"\"}},\"type\":\"scatterpolargl\"}],\"scatterternary\":[{\"marker\":{\"colorbar\":{\"outlinewidth\":0,\"ticks\":\"\"}},\"type\":\"scatterternary\"}],\"surface\":[{\"colorbar\":{\"outlinewidth\":0,\"ticks\":\"\"},\"colorscale\":[[0.0,\"#0d0887\"],[0.1111111111111111,\"#46039f\"],[0.2222222222222222,\"#7201a8\"],[0.3333333333333333,\"#9c179e\"],[0.4444444444444444,\"#bd3786\"],[0.5555555555555556,\"#d8576b\"],[0.6666666666666666,\"#ed7953\"],[0.7777777777777778,\"#fb9f3a\"],[0.8888888888888888,\"#fdca26\"],[1.0,\"#f0f921\"]],\"type\":\"surface\"}],\"table\":[{\"cells\":{\"fill\":{\"color\":\"#EBF0F8\"},\"line\":{\"color\":\"white\"}},\"header\":{\"fill\":{\"color\":\"#C8D4E3\"},\"line\":{\"color\":\"white\"}},\"type\":\"table\"}]},\"layout\":{\"annotationdefaults\":{\"arrowcolor\":\"#2a3f5f\",\"arrowhead\":0,\"arrowwidth\":1},\"autotypenumbers\":\"strict\",\"coloraxis\":{\"colorbar\":{\"outlinewidth\":0,\"ticks\":\"\"}},\"colorscale\":{\"diverging\":[[0,\"#8e0152\"],[0.1,\"#c51b7d\"],[0.2,\"#de77ae\"],[0.3,\"#f1b6da\"],[0.4,\"#fde0ef\"],[0.5,\"#f7f7f7\"],[0.6,\"#e6f5d0\"],[0.7,\"#b8e186\"],[0.8,\"#7fbc41\"],[0.9,\"#4d9221\"],[1,\"#276419\"]],\"sequential\":[[0.0,\"#0d0887\"],[0.1111111111111111,\"#46039f\"],[0.2222222222222222,\"#7201a8\"],[0.3333333333333333,\"#9c179e\"],[0.4444444444444444,\"#bd3786\"],[0.5555555555555556,\"#d8576b\"],[0.6666666666666666,\"#ed7953\"],[0.7777777777777778,\"#fb9f3a\"],[0.8888888888888888,\"#fdca26\"],[1.0,\"#f0f921\"]],\"sequentialminus\":[[0.0,\"#0d0887\"],[0.1111111111111111,\"#46039f\"],[0.2222222222222222,\"#7201a8\"],[0.3333333333333333,\"#9c179e\"],[0.4444444444444444,\"#bd3786\"],[0.5555555555555556,\"#d8576b\"],[0.6666666666666666,\"#ed7953\"],[0.7777777777777778,\"#fb9f3a\"],[0.8888888888888888,\"#fdca26\"],[1.0,\"#f0f921\"]]},\"colorway\":[\"#636efa\",\"#EF553B\",\"#00cc96\",\"#ab63fa\",\"#FFA15A\",\"#19d3f3\",\"#FF6692\",\"#B6E880\",\"#FF97FF\",\"#FECB52\"],\"font\":{\"color\":\"#2a3f5f\"},\"geo\":{\"bgcolor\":\"white\",\"lakecolor\":\"white\",\"landcolor\":\"#E5ECF6\",\"showlakes\":true,\"showland\":true,\"subunitcolor\":\"white\"},\"hoverlabel\":{\"align\":\"left\"},\"hovermode\":\"closest\",\"mapbox\":{\"style\":\"light\"},\"paper_bgcolor\":\"white\",\"plot_bgcolor\":\"#E5ECF6\",\"polar\":{\"angularaxis\":{\"gridcolor\":\"white\",\"linecolor\":\"white\",\"ticks\":\"\"},\"bgcolor\":\"#E5ECF6\",\"radialaxis\":{\"gridcolor\":\"white\",\"linecolor\":\"white\",\"ticks\":\"\"}},\"scene\":{\"xaxis\":{\"backgroundcolor\":\"#E5ECF6\",\"gridcolor\":\"white\",\"gridwidth\":2,\"linecolor\":\"white\",\"showbackground\":true,\"ticks\":\"\",\"zerolinecolor\":\"white\"},\"yaxis\":{\"backgroundcolor\":\"#E5ECF6\",\"gridcolor\":\"white\",\"gridwidth\":2,\"linecolor\":\"white\",\"showbackground\":true,\"ticks\":\"\",\"zerolinecolor\":\"white\"},\"zaxis\":{\"backgroundcolor\":\"#E5ECF6\",\"gridcolor\":\"white\",\"gridwidth\":2,\"linecolor\":\"white\",\"showbackground\":true,\"ticks\":\"\",\"zerolinecolor\":\"white\"}},\"shapedefaults\":{\"line\":{\"color\":\"#2a3f5f\"}},\"ternary\":{\"aaxis\":{\"gridcolor\":\"white\",\"linecolor\":\"white\",\"ticks\":\"\"},\"baxis\":{\"gridcolor\":\"white\",\"linecolor\":\"white\",\"ticks\":\"\"},\"bgcolor\":\"#E5ECF6\",\"caxis\":{\"gridcolor\":\"white\",\"linecolor\":\"white\",\"ticks\":\"\"}},\"title\":{\"x\":0.05},\"xaxis\":{\"automargin\":true,\"gridcolor\":\"white\",\"linecolor\":\"white\",\"ticks\":\"\",\"title\":{\"standoff\":15},\"zerolinecolor\":\"white\",\"zerolinewidth\":2},\"yaxis\":{\"automargin\":true,\"gridcolor\":\"white\",\"linecolor\":\"white\",\"ticks\":\"\",\"title\":{\"standoff\":15},\"zerolinecolor\":\"white\",\"zerolinewidth\":2}}},\"legend\":{\"tracegroupgap\":0},\"title\":{\"text\":\"Distribui\\u00e7\\u00e3o dos tipos de transa\\u00e7\\u00e3o\"}},                        {\"responsive\": true}                    ).then(function(){\n",
              "                            \n",
              "var gd = document.getElementById('5d503388-f1d7-43f2-b64b-5b9d280b68a5');\n",
              "var x = new MutationObserver(function (mutations, observer) {{\n",
              "        var display = window.getComputedStyle(gd).display;\n",
              "        if (!display || display === 'none') {{\n",
              "            console.log([gd, 'removed!']);\n",
              "            Plotly.purge(gd);\n",
              "            observer.disconnect();\n",
              "        }}\n",
              "}});\n",
              "\n",
              "// Listen for the removal of the full notebook cells\n",
              "var notebookContainer = gd.closest('#notebook-container');\n",
              "if (notebookContainer) {{\n",
              "    x.observe(notebookContainer, {childList: true});\n",
              "}}\n",
              "\n",
              "// Listen for the clearing of the current output cell\n",
              "var outputEl = gd.closest('.output');\n",
              "if (outputEl) {{\n",
              "    x.observe(outputEl, {childList: true});\n",
              "}}\n",
              "\n",
              "                        })                };                            </script>        </div>\n",
              "</body>\n",
              "</html>"
            ]
          },
          "metadata": {},
          "output_type": "display_data"
        }
      ],
      "source": [
        "tipos = data[\"type\"].value_counts()\n",
        "transactions = tipos.index\n",
        "quantity = tipos.values\n",
        "\n",
        "import plotly.express as px\n",
        "figure = px.pie(data, \n",
        "             values=quantity, \n",
        "             names=transactions,hole = 0.5, \n",
        "             title=\"Distribuição dos tipos de transação\")\n",
        "figure.show()"
      ]
    },
    {
      "cell_type": "code",
      "execution_count": null,
      "metadata": {
        "colab": {
          "base_uri": "https://localhost:8080/",
          "height": 542
        },
        "id": "0Ym0cvuItgHR",
        "outputId": "94c33cd2-9470-4c8a-94bc-f54d1739e76d"
      },
      "outputs": [
        {
          "data": {
            "text/html": [
              "<html>\n",
              "<head><meta charset=\"utf-8\" /></head>\n",
              "<body>\n",
              "    <div>            <script src=\"https://cdnjs.cloudflare.com/ajax/libs/mathjax/2.7.5/MathJax.js?config=TeX-AMS-MML_SVG\"></script><script type=\"text/javascript\">if (window.MathJax) {MathJax.Hub.Config({SVG: {font: \"STIX-Web\"}});}</script>                <script type=\"text/javascript\">window.PlotlyConfig = {MathJaxConfig: 'local'};</script>\n",
              "        <script src=\"https://cdn.plot.ly/plotly-2.8.3.min.js\"></script>                <div id=\"75354488-9285-48f5-8cb5-bb6cac72be56\" class=\"plotly-graph-div\" style=\"height:525px; width:100%;\"></div>            <script type=\"text/javascript\">                                    window.PLOTLYENV=window.PLOTLYENV || {};                                    if (document.getElementById(\"75354488-9285-48f5-8cb5-bb6cac72be56\")) {                    Plotly.newPlot(                        \"75354488-9285-48f5-8cb5-bb6cac72be56\",                        [{\"domain\":{\"x\":[0.0,1.0],\"y\":[0.0,1.0]},\"hole\":0.5,\"hovertemplate\":\"label=%{label}<br>value=%{value}<extra></extra>\",\"labels\":[1,4],\"legendgroup\":\"\",\"name\":\"\",\"showlegend\":true,\"values\":[4116,4097],\"type\":\"pie\"}],                        {\"template\":{\"data\":{\"bar\":[{\"error_x\":{\"color\":\"#2a3f5f\"},\"error_y\":{\"color\":\"#2a3f5f\"},\"marker\":{\"line\":{\"color\":\"#E5ECF6\",\"width\":0.5},\"pattern\":{\"fillmode\":\"overlay\",\"size\":10,\"solidity\":0.2}},\"type\":\"bar\"}],\"barpolar\":[{\"marker\":{\"line\":{\"color\":\"#E5ECF6\",\"width\":0.5},\"pattern\":{\"fillmode\":\"overlay\",\"size\":10,\"solidity\":0.2}},\"type\":\"barpolar\"}],\"carpet\":[{\"aaxis\":{\"endlinecolor\":\"#2a3f5f\",\"gridcolor\":\"white\",\"linecolor\":\"white\",\"minorgridcolor\":\"white\",\"startlinecolor\":\"#2a3f5f\"},\"baxis\":{\"endlinecolor\":\"#2a3f5f\",\"gridcolor\":\"white\",\"linecolor\":\"white\",\"minorgridcolor\":\"white\",\"startlinecolor\":\"#2a3f5f\"},\"type\":\"carpet\"}],\"choropleth\":[{\"colorbar\":{\"outlinewidth\":0,\"ticks\":\"\"},\"type\":\"choropleth\"}],\"contour\":[{\"colorbar\":{\"outlinewidth\":0,\"ticks\":\"\"},\"colorscale\":[[0.0,\"#0d0887\"],[0.1111111111111111,\"#46039f\"],[0.2222222222222222,\"#7201a8\"],[0.3333333333333333,\"#9c179e\"],[0.4444444444444444,\"#bd3786\"],[0.5555555555555556,\"#d8576b\"],[0.6666666666666666,\"#ed7953\"],[0.7777777777777778,\"#fb9f3a\"],[0.8888888888888888,\"#fdca26\"],[1.0,\"#f0f921\"]],\"type\":\"contour\"}],\"contourcarpet\":[{\"colorbar\":{\"outlinewidth\":0,\"ticks\":\"\"},\"type\":\"contourcarpet\"}],\"heatmap\":[{\"colorbar\":{\"outlinewidth\":0,\"ticks\":\"\"},\"colorscale\":[[0.0,\"#0d0887\"],[0.1111111111111111,\"#46039f\"],[0.2222222222222222,\"#7201a8\"],[0.3333333333333333,\"#9c179e\"],[0.4444444444444444,\"#bd3786\"],[0.5555555555555556,\"#d8576b\"],[0.6666666666666666,\"#ed7953\"],[0.7777777777777778,\"#fb9f3a\"],[0.8888888888888888,\"#fdca26\"],[1.0,\"#f0f921\"]],\"type\":\"heatmap\"}],\"heatmapgl\":[{\"colorbar\":{\"outlinewidth\":0,\"ticks\":\"\"},\"colorscale\":[[0.0,\"#0d0887\"],[0.1111111111111111,\"#46039f\"],[0.2222222222222222,\"#7201a8\"],[0.3333333333333333,\"#9c179e\"],[0.4444444444444444,\"#bd3786\"],[0.5555555555555556,\"#d8576b\"],[0.6666666666666666,\"#ed7953\"],[0.7777777777777778,\"#fb9f3a\"],[0.8888888888888888,\"#fdca26\"],[1.0,\"#f0f921\"]],\"type\":\"heatmapgl\"}],\"histogram\":[{\"marker\":{\"pattern\":{\"fillmode\":\"overlay\",\"size\":10,\"solidity\":0.2}},\"type\":\"histogram\"}],\"histogram2d\":[{\"colorbar\":{\"outlinewidth\":0,\"ticks\":\"\"},\"colorscale\":[[0.0,\"#0d0887\"],[0.1111111111111111,\"#46039f\"],[0.2222222222222222,\"#7201a8\"],[0.3333333333333333,\"#9c179e\"],[0.4444444444444444,\"#bd3786\"],[0.5555555555555556,\"#d8576b\"],[0.6666666666666666,\"#ed7953\"],[0.7777777777777778,\"#fb9f3a\"],[0.8888888888888888,\"#fdca26\"],[1.0,\"#f0f921\"]],\"type\":\"histogram2d\"}],\"histogram2dcontour\":[{\"colorbar\":{\"outlinewidth\":0,\"ticks\":\"\"},\"colorscale\":[[0.0,\"#0d0887\"],[0.1111111111111111,\"#46039f\"],[0.2222222222222222,\"#7201a8\"],[0.3333333333333333,\"#9c179e\"],[0.4444444444444444,\"#bd3786\"],[0.5555555555555556,\"#d8576b\"],[0.6666666666666666,\"#ed7953\"],[0.7777777777777778,\"#fb9f3a\"],[0.8888888888888888,\"#fdca26\"],[1.0,\"#f0f921\"]],\"type\":\"histogram2dcontour\"}],\"mesh3d\":[{\"colorbar\":{\"outlinewidth\":0,\"ticks\":\"\"},\"type\":\"mesh3d\"}],\"parcoords\":[{\"line\":{\"colorbar\":{\"outlinewidth\":0,\"ticks\":\"\"}},\"type\":\"parcoords\"}],\"pie\":[{\"automargin\":true,\"type\":\"pie\"}],\"scatter\":[{\"marker\":{\"colorbar\":{\"outlinewidth\":0,\"ticks\":\"\"}},\"type\":\"scatter\"}],\"scatter3d\":[{\"line\":{\"colorbar\":{\"outlinewidth\":0,\"ticks\":\"\"}},\"marker\":{\"colorbar\":{\"outlinewidth\":0,\"ticks\":\"\"}},\"type\":\"scatter3d\"}],\"scattercarpet\":[{\"marker\":{\"colorbar\":{\"outlinewidth\":0,\"ticks\":\"\"}},\"type\":\"scattercarpet\"}],\"scattergeo\":[{\"marker\":{\"colorbar\":{\"outlinewidth\":0,\"ticks\":\"\"}},\"type\":\"scattergeo\"}],\"scattergl\":[{\"marker\":{\"colorbar\":{\"outlinewidth\":0,\"ticks\":\"\"}},\"type\":\"scattergl\"}],\"scattermapbox\":[{\"marker\":{\"colorbar\":{\"outlinewidth\":0,\"ticks\":\"\"}},\"type\":\"scattermapbox\"}],\"scatterpolar\":[{\"marker\":{\"colorbar\":{\"outlinewidth\":0,\"ticks\":\"\"}},\"type\":\"scatterpolar\"}],\"scatterpolargl\":[{\"marker\":{\"colorbar\":{\"outlinewidth\":0,\"ticks\":\"\"}},\"type\":\"scatterpolargl\"}],\"scatterternary\":[{\"marker\":{\"colorbar\":{\"outlinewidth\":0,\"ticks\":\"\"}},\"type\":\"scatterternary\"}],\"surface\":[{\"colorbar\":{\"outlinewidth\":0,\"ticks\":\"\"},\"colorscale\":[[0.0,\"#0d0887\"],[0.1111111111111111,\"#46039f\"],[0.2222222222222222,\"#7201a8\"],[0.3333333333333333,\"#9c179e\"],[0.4444444444444444,\"#bd3786\"],[0.5555555555555556,\"#d8576b\"],[0.6666666666666666,\"#ed7953\"],[0.7777777777777778,\"#fb9f3a\"],[0.8888888888888888,\"#fdca26\"],[1.0,\"#f0f921\"]],\"type\":\"surface\"}],\"table\":[{\"cells\":{\"fill\":{\"color\":\"#EBF0F8\"},\"line\":{\"color\":\"white\"}},\"header\":{\"fill\":{\"color\":\"#C8D4E3\"},\"line\":{\"color\":\"white\"}},\"type\":\"table\"}]},\"layout\":{\"annotationdefaults\":{\"arrowcolor\":\"#2a3f5f\",\"arrowhead\":0,\"arrowwidth\":1},\"autotypenumbers\":\"strict\",\"coloraxis\":{\"colorbar\":{\"outlinewidth\":0,\"ticks\":\"\"}},\"colorscale\":{\"diverging\":[[0,\"#8e0152\"],[0.1,\"#c51b7d\"],[0.2,\"#de77ae\"],[0.3,\"#f1b6da\"],[0.4,\"#fde0ef\"],[0.5,\"#f7f7f7\"],[0.6,\"#e6f5d0\"],[0.7,\"#b8e186\"],[0.8,\"#7fbc41\"],[0.9,\"#4d9221\"],[1,\"#276419\"]],\"sequential\":[[0.0,\"#0d0887\"],[0.1111111111111111,\"#46039f\"],[0.2222222222222222,\"#7201a8\"],[0.3333333333333333,\"#9c179e\"],[0.4444444444444444,\"#bd3786\"],[0.5555555555555556,\"#d8576b\"],[0.6666666666666666,\"#ed7953\"],[0.7777777777777778,\"#fb9f3a\"],[0.8888888888888888,\"#fdca26\"],[1.0,\"#f0f921\"]],\"sequentialminus\":[[0.0,\"#0d0887\"],[0.1111111111111111,\"#46039f\"],[0.2222222222222222,\"#7201a8\"],[0.3333333333333333,\"#9c179e\"],[0.4444444444444444,\"#bd3786\"],[0.5555555555555556,\"#d8576b\"],[0.6666666666666666,\"#ed7953\"],[0.7777777777777778,\"#fb9f3a\"],[0.8888888888888888,\"#fdca26\"],[1.0,\"#f0f921\"]]},\"colorway\":[\"#636efa\",\"#EF553B\",\"#00cc96\",\"#ab63fa\",\"#FFA15A\",\"#19d3f3\",\"#FF6692\",\"#B6E880\",\"#FF97FF\",\"#FECB52\"],\"font\":{\"color\":\"#2a3f5f\"},\"geo\":{\"bgcolor\":\"white\",\"lakecolor\":\"white\",\"landcolor\":\"#E5ECF6\",\"showlakes\":true,\"showland\":true,\"subunitcolor\":\"white\"},\"hoverlabel\":{\"align\":\"left\"},\"hovermode\":\"closest\",\"mapbox\":{\"style\":\"light\"},\"paper_bgcolor\":\"white\",\"plot_bgcolor\":\"#E5ECF6\",\"polar\":{\"angularaxis\":{\"gridcolor\":\"white\",\"linecolor\":\"white\",\"ticks\":\"\"},\"bgcolor\":\"#E5ECF6\",\"radialaxis\":{\"gridcolor\":\"white\",\"linecolor\":\"white\",\"ticks\":\"\"}},\"scene\":{\"xaxis\":{\"backgroundcolor\":\"#E5ECF6\",\"gridcolor\":\"white\",\"gridwidth\":2,\"linecolor\":\"white\",\"showbackground\":true,\"ticks\":\"\",\"zerolinecolor\":\"white\"},\"yaxis\":{\"backgroundcolor\":\"#E5ECF6\",\"gridcolor\":\"white\",\"gridwidth\":2,\"linecolor\":\"white\",\"showbackground\":true,\"ticks\":\"\",\"zerolinecolor\":\"white\"},\"zaxis\":{\"backgroundcolor\":\"#E5ECF6\",\"gridcolor\":\"white\",\"gridwidth\":2,\"linecolor\":\"white\",\"showbackground\":true,\"ticks\":\"\",\"zerolinecolor\":\"white\"}},\"shapedefaults\":{\"line\":{\"color\":\"#2a3f5f\"}},\"ternary\":{\"aaxis\":{\"gridcolor\":\"white\",\"linecolor\":\"white\",\"ticks\":\"\"},\"baxis\":{\"gridcolor\":\"white\",\"linecolor\":\"white\",\"ticks\":\"\"},\"bgcolor\":\"#E5ECF6\",\"caxis\":{\"gridcolor\":\"white\",\"linecolor\":\"white\",\"ticks\":\"\"}},\"title\":{\"x\":0.05},\"xaxis\":{\"automargin\":true,\"gridcolor\":\"white\",\"linecolor\":\"white\",\"ticks\":\"\",\"title\":{\"standoff\":15},\"zerolinecolor\":\"white\",\"zerolinewidth\":2},\"yaxis\":{\"automargin\":true,\"gridcolor\":\"white\",\"linecolor\":\"white\",\"ticks\":\"\",\"title\":{\"standoff\":15},\"zerolinecolor\":\"white\",\"zerolinewidth\":2}}},\"legend\":{\"tracegroupgap\":0},\"title\":{\"text\":\"Distribui\\u00e7\\u00e3o dos tipos de transa\\u00e7\\u00e3o nos casos de fraude\"}},                        {\"responsive\": true}                    ).then(function(){\n",
              "                            \n",
              "var gd = document.getElementById('75354488-9285-48f5-8cb5-bb6cac72be56');\n",
              "var x = new MutationObserver(function (mutations, observer) {{\n",
              "        var display = window.getComputedStyle(gd).display;\n",
              "        if (!display || display === 'none') {{\n",
              "            console.log([gd, 'removed!']);\n",
              "            Plotly.purge(gd);\n",
              "            observer.disconnect();\n",
              "        }}\n",
              "}});\n",
              "\n",
              "// Listen for the removal of the full notebook cells\n",
              "var notebookContainer = gd.closest('#notebook-container');\n",
              "if (notebookContainer) {{\n",
              "    x.observe(notebookContainer, {childList: true});\n",
              "}}\n",
              "\n",
              "// Listen for the clearing of the current output cell\n",
              "var outputEl = gd.closest('.output');\n",
              "if (outputEl) {{\n",
              "    x.observe(outputEl, {childList: true});\n",
              "}}\n",
              "\n",
              "                        })                };                            </script>        </div>\n",
              "</body>\n",
              "</html>"
            ]
          },
          "metadata": {},
          "output_type": "display_data"
        }
      ],
      "source": [
        "tipos = data_fraude[\"type\"].value_counts()\n",
        "transactions = tipos.index\n",
        "quantity = tipos.values\n",
        "\n",
        "import plotly.express as px\n",
        "figure = px.pie(data_fraude, \n",
        "             values=quantity, \n",
        "             names=transactions,hole = 0.5, \n",
        "             title=\"Distribuição dos tipos de transação nos casos de fraude\")\n",
        "figure.show()\n"
      ]
    },
    {
      "cell_type": "markdown",
      "metadata": {
        "id": "ELTa4tgki73H"
      },
      "source": [
        "Notamos que todas as fraudes são transações dos tipos CASH_OUT ou TRANSFER."
      ]
    },
    {
      "cell_type": "markdown",
      "metadata": {
        "id": "ChGqap00KU_j"
      },
      "source": [
        "## **3.3 Correlação entre cada variável e a coluna \"isFraud\"**"
      ]
    },
    {
      "cell_type": "code",
      "execution_count": null,
      "metadata": {
        "colab": {
          "base_uri": "https://localhost:8080/"
        },
        "id": "t_jfDsnuKWwy",
        "outputId": "5fd006e3-851c-4398-ffa6-5198d493dde7"
      },
      "outputs": [
        {
          "name": "stdout",
          "output_type": "stream",
          "text": [
            "isFraud           1.000000\n",
            "amount            0.076688\n",
            "isFlaggedFraud    0.044109\n",
            "step              0.031578\n",
            "type              0.016171\n",
            "oldbalanceOrg     0.010154\n",
            "newbalanceDest    0.000535\n",
            "oldbalanceDest   -0.005885\n",
            "newbalanceOrig   -0.008148\n",
            "Name: isFraud, dtype: float64\n"
          ]
        }
      ],
      "source": [
        "# Checando a correlação\n",
        "\n",
        "# Obtém a matriz de correlação dos dados\n",
        "correlacao = data.corr()\n",
        "# Impressão da correlação de cada variável à váriavel \"isFraud\"\n",
        "print(correlacao[\"isFraud\"].sort_values(ascending=False))"
      ]
    },
    {
      "cell_type": "markdown",
      "metadata": {
        "id": "Ng94NOzdVUI5"
      },
      "source": [
        "Notamos que a variável mais correlacionada com a fraude é a quantidade de dinheiro transferida."
      ]
    },
    {
      "cell_type": "markdown",
      "metadata": {
        "id": "02Un2Xk9jjK3"
      },
      "source": [
        "## **3.4.1. Boxplot das variáveis com os merchants**"
      ]
    },
    {
      "cell_type": "code",
      "execution_count": null,
      "metadata": {
        "colab": {
          "base_uri": "https://localhost:8080/",
          "height": 616
        },
        "id": "KP5dN8bFV9LA",
        "outputId": "246fb9f2-77df-4217-8535-88a3bc3f0e7e"
      },
      "outputs": [
        {
          "data": {
            "image/png": "[encoded data removed]",
            "text/plain": [
              "<Figure size 1008x720 with 6 Axes>"
            ]
          },
          "metadata": {},
          "output_type": "display_data"
        }
      ],
      "source": [
        "variables = ['step', 'amount', 'oldbalanceOrg',\n",
        "       'newbalanceOrig', 'oldbalanceDest', 'newbalanceDest']\n",
        "\n",
        "plt.figure(figsize=(14,10))\n",
        "for i in range(len(variables)):\n",
        "    plt.subplot(2,3,i+1)\n",
        "    sns.boxplot(x=\"isFraud\", y=variables[i], data=data, showfliers = False)\n",
        "    # note que os outliers não estão sendo mostrados"
      ]
    },
    {
      "cell_type": "markdown",
      "metadata": {
        "id": "0hxmrQwhbim6"
      },
      "source": [
        "Note que a quantidade de zeros em contas do tipo \"Merchant\" distorce o boxplot"
      ]
    },
    {
      "cell_type": "markdown",
      "metadata": {
        "id": "aiXYXbIojfT5"
      },
      "source": [
        "## **3.4.2. Boxplot das variáveis sem os merchants**"
      ]
    },
    {
      "cell_type": "code",
      "execution_count": null,
      "metadata": {
        "colab": {
          "base_uri": "https://localhost:8080/",
          "height": 616
        },
        "id": "Po6eFKMkjUY1",
        "outputId": "4a6b8e25-1287-48a3-8a27-8848ece16b21"
      },
      "outputs": [
        {
          "data": {
            "image/png": "[encoded data removed]",
            "text/plain": [
              "<Figure size 1008x720 with 6 Axes>"
            ]
          },
          "metadata": {},
          "output_type": "display_data"
        }
      ],
      "source": [
        "variables = ['step', 'amount', 'oldbalanceOrg',\n",
        "       'newbalanceOrig', 'oldbalanceDest', 'newbalanceDest']\n",
        "\n",
        "plt.figure(figsize=(14,10))\n",
        "for i in range(len(variables)):\n",
        "    plt.subplot(2,3,i+1)\n",
        "    sns.boxplot(x=\"isFraud\", y=variables[i], data=no_M_df, showfliers = False)\n",
        "    # note que os outliers não estão sendo mostrados"
      ]
    },
    {
      "cell_type": "markdown",
      "metadata": {
        "id": "u-_mHuiEKbUp"
      },
      "source": [
        "## **3.4 Heatmap com a correlação entre as variáveis**"
      ]
    },
    {
      "cell_type": "code",
      "execution_count": null,
      "metadata": {
        "colab": {
          "base_uri": "https://localhost:8080/",
          "height": 552
        },
        "id": "x90uRnvbKcpU",
        "outputId": "ea919020-96f5-4e37-8f33-bfacfb0131be"
      },
      "outputs": [
        {
          "data": {
            "image/png": "[encoded data removed]",
            "text/plain": [
              "<Figure size 504x504 with 2 Axes>"
            ]
          },
          "metadata": {},
          "output_type": "display_data"
        }
      ],
      "source": [
        "# A matriz de correlação entre as variáveis:\n",
        "\n",
        "plt.figure(figsize=(7, 7))\n",
        "plt.imshow(correlacao, cmap='Blues', interpolation='none', aspect='auto')\n",
        "plt.colorbar()\n",
        "plt.xticks(range(len(correlacao)), correlacao.columns, rotation='vertical')\n",
        "plt.yticks(range(len(correlacao)), correlacao.columns);\n",
        "plt.suptitle(\"Correlação entre as variáveis\", fontsize=15, fontweight='bold')\n",
        "plt.grid(False)\n",
        "plt.show()"
      ]
    },
    {
      "cell_type": "code",
      "execution_count": null,
      "metadata": {
        "colab": {
          "base_uri": "https://localhost:8080/"
        },
        "id": "YcHCtJerKipt",
        "outputId": "511d9cb6-40a5-40c1-e972-50b425b97939"
      },
      "outputs": [
        {
          "name": "stdout",
          "output_type": "stream",
          "text": [
            "Variáveis mais correlacionadas:\n",
            " [['oldbalanceOrg', 'newbalanceOrig'], ['newbalanceOrig', 'oldbalanceOrg'], ['oldbalanceDest', 'newbalanceDest'], ['newbalanceDest', 'oldbalanceDest']]\n"
          ]
        }
      ],
      "source": [
        "# Assim, para identificarmos as variáveis correlacionadas, usamos um laço for:\n",
        "\n",
        "p = 0.75 # correlação mínima\n",
        "var = []\n",
        "for i in correlacao.columns:\n",
        "    for j in correlacao.columns:\n",
        "        if(i != j):\n",
        "            if np.abs(correlacao[i][j]) > p: # se maior do que |p|\n",
        "                var.append([i,j])\n",
        "print('Variáveis mais correlacionadas:\\n', var)"
      ]
    },
    {
      "cell_type": "markdown",
      "source": [
        "## **3.5 Análise Exploratória (sem os Merchants)**"
      ],
      "metadata": {
        "id": "xki9Q1kwML9d"
      }
    },
    {
      "cell_type": "code",
      "source": [
        "data = pd.read_csv(\"/content/PS_20174392719_1491204439457_log.csv\")"
      ],
      "metadata": {
        "id": "OQbZpdjZNNIl"
      },
      "execution_count": null,
      "outputs": []
    },
    {
      "cell_type": "code",
      "source": [
        "print('Dados que não têm nenhum valor NULL:')\n",
        "data.isnull().any()"
      ],
      "metadata": {
        "colab": {
          "base_uri": "https://localhost:8080/"
        },
        "id": "Jas1kSlGMawU",
        "outputId": "34b3aeca-7889-4035-d912-328f370c1c86"
      },
      "execution_count": null,
      "outputs": [
        {
          "output_type": "stream",
          "name": "stdout",
          "text": [
            "Dados que não têm nenhum valor NULL:\n"
          ]
        },
        {
          "output_type": "execute_result",
          "data": {
            "text/plain": [
              "step              False\n",
              "type              False\n",
              "amount            False\n",
              "nameOrig          False\n",
              "oldbalanceOrg     False\n",
              "newbalanceOrig    False\n",
              "nameDest          False\n",
              "oldbalanceDest    False\n",
              "newbalanceDest    False\n",
              "isFraud           False\n",
              "isFlaggedFraud    False\n",
              "dtype: bool"
            ]
          },
          "metadata": {},
          "execution_count": 12
        }
      ]
    },
    {
      "cell_type": "code",
      "source": [
        "data.head(5)"
      ],
      "metadata": {
        "colab": {
          "base_uri": "https://localhost:8080/",
          "height": 270
        },
        "id": "YumUL1l8abJu",
        "outputId": "f12c053b-89cf-493e-a801-bc418da81025"
      },
      "execution_count": null,
      "outputs": [
        {
          "output_type": "execute_result",
          "data": {
            "text/plain": [
              "   step      type    amount     nameOrig  oldbalanceOrg  newbalanceOrig  \\\n",
              "0     1   PAYMENT   9839.64  C1231006815       170136.0       160296.36   \n",
              "1     1   PAYMENT   1864.28  C1666544295        21249.0        19384.72   \n",
              "2     1  TRANSFER    181.00  C1305486145          181.0            0.00   \n",
              "3     1  CASH_OUT    181.00   C840083671          181.0            0.00   \n",
              "4     1   PAYMENT  11668.14  C2048537720        41554.0        29885.86   \n",
              "\n",
              "      nameDest  oldbalanceDest  newbalanceDest  isFraud  isFlaggedFraud  \n",
              "0  M1979787155             0.0             0.0        0               0  \n",
              "1  M2044282225             0.0             0.0        0               0  \n",
              "2   C553264065             0.0             0.0        1               0  \n",
              "3    C38997010         21182.0             0.0        1               0  \n",
              "4  M1230701703             0.0             0.0        0               0  "
            ],
            "text/html": [
              "\n",
              "  <div id=\"df-aec5136c-ccad-413e-abd0-63edb3f2c6ed\">\n",
              "    <div class=\"colab-df-container\">\n",
              "      <div>\n",
              "<style scoped>\n",
              "    .dataframe tbody tr th:only-of-type {\n",
              "        vertical-align: middle;\n",
              "    }\n",
              "\n",
              "    .dataframe tbody tr th {\n",
              "        vertical-align: top;\n",
              "    }\n",
              "\n",
              "    .dataframe thead th {\n",
              "        text-align: right;\n",
              "    }\n",
              "</style>\n",
              "<table border=\"1\" class=\"dataframe\">\n",
              "  <thead>\n",
              "    <tr style=\"text-align: right;\">\n",
              "      <th></th>\n",
              "      <th>step</th>\n",
              "      <th>type</th>\n",
              "      <th>amount</th>\n",
              "      <th>nameOrig</th>\n",
              "      <th>oldbalanceOrg</th>\n",
              "      <th>newbalanceOrig</th>\n",
              "      <th>nameDest</th>\n",
              "      <th>oldbalanceDest</th>\n",
              "      <th>newbalanceDest</th>\n",
              "      <th>isFraud</th>\n",
              "      <th>isFlaggedFraud</th>\n",
              "    </tr>\n",
              "  </thead>\n",
              "  <tbody>\n",
              "    <tr>\n",
              "      <th>0</th>\n",
              "      <td>1</td>\n",
              "      <td>PAYMENT</td>\n",
              "      <td>9839.64</td>\n",
              "      <td>C1231006815</td>\n",
              "      <td>170136.0</td>\n",
              "      <td>160296.36</td>\n",
              "      <td>M1979787155</td>\n",
              "      <td>0.0</td>\n",
              "      <td>0.0</td>\n",
              "      <td>0</td>\n",
              "      <td>0</td>\n",
              "    </tr>\n",
              "    <tr>\n",
              "      <th>1</th>\n",
              "      <td>1</td>\n",
              "      <td>PAYMENT</td>\n",
              "      <td>1864.28</td>\n",
              "      <td>C1666544295</td>\n",
              "      <td>21249.0</td>\n",
              "      <td>19384.72</td>\n",
              "      <td>M2044282225</td>\n",
              "      <td>0.0</td>\n",
              "      <td>0.0</td>\n",
              "      <td>0</td>\n",
              "      <td>0</td>\n",
              "    </tr>\n",
              "    <tr>\n",
              "      <th>2</th>\n",
              "      <td>1</td>\n",
              "      <td>TRANSFER</td>\n",
              "      <td>181.00</td>\n",
              "      <td>C1305486145</td>\n",
              "      <td>181.0</td>\n",
              "      <td>0.00</td>\n",
              "      <td>C553264065</td>\n",
              "      <td>0.0</td>\n",
              "      <td>0.0</td>\n",
              "      <td>1</td>\n",
              "      <td>0</td>\n",
              "    </tr>\n",
              "    <tr>\n",
              "      <th>3</th>\n",
              "      <td>1</td>\n",
              "      <td>CASH_OUT</td>\n",
              "      <td>181.00</td>\n",
              "      <td>C840083671</td>\n",
              "      <td>181.0</td>\n",
              "      <td>0.00</td>\n",
              "      <td>C38997010</td>\n",
              "      <td>21182.0</td>\n",
              "      <td>0.0</td>\n",
              "      <td>1</td>\n",
              "      <td>0</td>\n",
              "    </tr>\n",
              "    <tr>\n",
              "      <th>4</th>\n",
              "      <td>1</td>\n",
              "      <td>PAYMENT</td>\n",
              "      <td>11668.14</td>\n",
              "      <td>C2048537720</td>\n",
              "      <td>41554.0</td>\n",
              "      <td>29885.86</td>\n",
              "      <td>M1230701703</td>\n",
              "      <td>0.0</td>\n",
              "      <td>0.0</td>\n",
              "      <td>0</td>\n",
              "      <td>0</td>\n",
              "    </tr>\n",
              "  </tbody>\n",
              "</table>\n",
              "</div>\n",
              "      <button class=\"colab-df-convert\" onclick=\"convertToInteractive('df-aec5136c-ccad-413e-abd0-63edb3f2c6ed')\"\n",
              "              title=\"Convert this dataframe to an interactive table.\"\n",
              "              style=\"display:none;\">\n",
              "        \n",
              "  <svg xmlns=\"http://www.w3.org/2000/svg\" height=\"24px\"viewBox=\"0 0 24 24\"\n",
              "       width=\"24px\">\n",
              "    <path d=\"M0 0h24v24H0V0z\" fill=\"none\"/>\n",
              "    <path d=\"M18.56 5.44l.94 2.06.94-2.06 2.06-.94-2.06-.94-.94-2.06-.94 2.06-2.06.94zm-11 1L8.5 8.5l.94-2.06 2.06-.94-2.06-.94L8.5 2.5l-.94 2.06-2.06.94zm10 10l.94 2.06.94-2.06 2.06-.94-2.06-.94-.94-2.06-.94 2.06-2.06.94z\"/><path d=\"M17.41 7.96l-1.37-1.37c-.4-.4-.92-.59-1.43-.59-.52 0-1.04.2-1.43.59L10.3 9.45l-7.72 7.72c-.78.78-.78 2.05 0 2.83L4 21.41c.39.39.9.59 1.41.59.51 0 1.02-.2 1.41-.59l7.78-7.78 2.81-2.81c.8-.78.8-2.07 0-2.86zM5.41 20L4 18.59l7.72-7.72 1.47 1.35L5.41 20z\"/>\n",
              "  </svg>\n",
              "      </button>\n",
              "      \n",
              "  <style>\n",
              "    .colab-df-container {\n",
              "      display:flex;\n",
              "      flex-wrap:wrap;\n",
              "      gap: 12px;\n",
              "    }\n",
              "\n",
              "    .colab-df-convert {\n",
              "      background-color: #E8F0FE;\n",
              "      border: none;\n",
              "      border-radius: 50%;\n",
              "      cursor: pointer;\n",
              "      display: none;\n",
              "      fill: #1967D2;\n",
              "      height: 32px;\n",
              "      padding: 0 0 0 0;\n",
              "      width: 32px;\n",
              "    }\n",
              "\n",
              "    .colab-df-convert:hover {\n",
              "      background-color: #E2EBFA;\n",
              "      box-shadow: 0px 1px 2px rgba(60, 64, 67, 0.3), 0px 1px 3px 1px rgba(60, 64, 67, 0.15);\n",
              "      fill: #174EA6;\n",
              "    }\n",
              "\n",
              "    [theme=dark] .colab-df-convert {\n",
              "      background-color: #3B4455;\n",
              "      fill: #D2E3FC;\n",
              "    }\n",
              "\n",
              "    [theme=dark] .colab-df-convert:hover {\n",
              "      background-color: #434B5C;\n",
              "      box-shadow: 0px 1px 3px 1px rgba(0, 0, 0, 0.15);\n",
              "      filter: drop-shadow(0px 1px 2px rgba(0, 0, 0, 0.3));\n",
              "      fill: #FFFFFF;\n",
              "    }\n",
              "  </style>\n",
              "\n",
              "      <script>\n",
              "        const buttonEl =\n",
              "          document.querySelector('#df-aec5136c-ccad-413e-abd0-63edb3f2c6ed button.colab-df-convert');\n",
              "        buttonEl.style.display =\n",
              "          google.colab.kernel.accessAllowed ? 'block' : 'none';\n",
              "\n",
              "        async function convertToInteractive(key) {\n",
              "          const element = document.querySelector('#df-aec5136c-ccad-413e-abd0-63edb3f2c6ed');\n",
              "          const dataTable =\n",
              "            await google.colab.kernel.invokeFunction('convertToInteractive',\n",
              "                                                     [key], {});\n",
              "          if (!dataTable) return;\n",
              "\n",
              "          const docLinkHtml = 'Like what you see? Visit the ' +\n",
              "            '<a target=\"_blank\" href=https://colab.research.google.com/notebooks/data_table.ipynb>data table notebook</a>'\n",
              "            + ' to learn more about interactive tables.';\n",
              "          element.innerHTML = '';\n",
              "          dataTable['output_type'] = 'display_data';\n",
              "          await google.colab.output.renderOutput(dataTable, element);\n",
              "          const docLink = document.createElement('div');\n",
              "          docLink.innerHTML = docLinkHtml;\n",
              "          element.appendChild(docLink);\n",
              "        }\n",
              "      </script>\n",
              "    </div>\n",
              "  </div>\n",
              "  "
            ]
          },
          "metadata": {},
          "execution_count": 13
        }
      ]
    },
    {
      "cell_type": "code",
      "source": [
        "data.rename(columns={'newbalanceOrig':'newbalanceOrg'},inplace=True)\n",
        "# A coluna newbalanceOrig deveria ser newbalanceOrg, como a sua 'espelhada' oldbalanceOrg\n",
        "data.drop(labels=['nameOrig','nameDest'],axis=1,inplace=True)"
      ],
      "metadata": {
        "id": "nw19slqVaiCz"
      },
      "execution_count": null,
      "outputs": []
    },
    {
      "cell_type": "code",
      "source": [
        "print('Minimum value of Amount, Old/New Balance of Origin/Destination:')\n",
        "data[[ 'amount','oldbalanceOrg', 'newbalanceOrg', 'oldbalanceDest', 'newbalanceDest']].min()"
      ],
      "metadata": {
        "colab": {
          "base_uri": "https://localhost:8080/"
        },
        "id": "qxRWGDTrauSO",
        "outputId": "fdde82b0-272e-41d6-ff0d-f84f1218121c"
      },
      "execution_count": null,
      "outputs": [
        {
          "output_type": "stream",
          "name": "stdout",
          "text": [
            "Minimum value of Amount, Old/New Balance of Origin/Destination:\n"
          ]
        },
        {
          "output_type": "execute_result",
          "data": {
            "text/plain": [
              "amount            0.0\n",
              "oldbalanceOrg     0.0\n",
              "newbalanceOrg     0.0\n",
              "oldbalanceDest    0.0\n",
              "newbalanceDest    0.0\n",
              "dtype: float64"
            ]
          },
          "metadata": {},
          "execution_count": 17
        }
      ]
    },
    {
      "cell_type": "code",
      "source": [
        "print('Maximum value of Amount, Old/New Balance of Origin/Destination:')\n",
        "data[[ 'amount','oldbalanceOrg', 'newbalanceOrg', 'oldbalanceDest', 'newbalanceDest']].max()"
      ],
      "metadata": {
        "colab": {
          "base_uri": "https://localhost:8080/"
        },
        "id": "9zJ16b-ebjY6",
        "outputId": "d29353ad-5460-4e8a-9aaa-ac4714f89451"
      },
      "execution_count": null,
      "outputs": [
        {
          "output_type": "stream",
          "name": "stdout",
          "text": [
            "Maximum value of Amount, Old/New Balance of Origin/Destination:\n"
          ]
        },
        {
          "output_type": "execute_result",
          "data": {
            "text/plain": [
              "amount            9.244552e+07\n",
              "oldbalanceOrg     5.958504e+07\n",
              "newbalanceOrg     4.958504e+07\n",
              "oldbalanceDest    3.560159e+08\n",
              "newbalanceDest    3.561793e+08\n",
              "dtype: float64"
            ]
          },
          "metadata": {},
          "execution_count": 18
        }
      ]
    },
    {
      "cell_type": "markdown",
      "source": [
        "Como não há valor ausente e/ou valores 'estranhos', não há necessidade de limpeza de dados, mas ainda precisamos realizar a análise de dados, pois os dados contêm uma grande variação do valor em diferentes colunas. A normalização também melhorará a precisão geral do modelo de aprendizado de máquina."
      ],
      "metadata": {
        "id": "pP3h8PpTbtWe"
      }
    },
    {
      "cell_type": "code",
      "source": [
        "var = data.groupby('type').amount.sum()\n",
        "fig = plt.figure()\n",
        "ax1 = fig.add_subplot(1,1,1)\n",
        "var.plot(kind='bar')\n",
        "ax1.set_title(\"Valor total por tipo de transação\")\n",
        "ax1.set_xlabel('Tipo de transação')\n",
        "ax1.set_ylabel('Quantia');"
      ],
      "metadata": {
        "colab": {
          "base_uri": "https://localhost:8080/",
          "height": 339
        },
        "id": "NpCI4gDhbzO6",
        "outputId": "06659b79-ee93-4386-8141-7c6bc67858e2"
      },
      "execution_count": null,
      "outputs": [
        {
          "output_type": "display_data",
          "data": {
            "text/plain": [
              "<Figure size 432x288 with 1 Axes>"
            ],
            "image/png": "[encoded data removed]"
          },
          "metadata": {
            "needs_background": "light"
          }
        }
      ]
    },
    {
      "cell_type": "code",
      "source": [
        "data.loc[data.isFraud == 1].type.unique()"
      ],
      "metadata": {
        "colab": {
          "base_uri": "https://localhost:8080/"
        },
        "id": "Aw-BF09yb_W_",
        "outputId": "f0caed44-2a2e-410f-93f6-3291ed8cfdd4"
      },
      "execution_count": null,
      "outputs": [
        {
          "output_type": "execute_result",
          "data": {
            "text/plain": [
              "array(['TRANSFER', 'CASH_OUT'], dtype=object)"
            ]
          },
          "metadata": {},
          "execution_count": 21
        }
      ]
    },
    {
      "cell_type": "markdown",
      "source": [
        "\n",
        "O gráfico acima mostra que TRANSFER e CASH_OUT são os dois modos de transação mais usados ​​e podemos ver que TRANSFER e CASH_OUT também são a única maneira pela qual a fraude acontece. Assim, vamos nos concentrar neste tipo de transações."
      ],
      "metadata": {
        "id": "c2QSYfjtcDiY"
      }
    },
    {
      "cell_type": "code",
      "source": [
        "sns.heatmap(data.corr(),cmap='RdBu');"
      ],
      "metadata": {
        "colab": {
          "base_uri": "https://localhost:8080/",
          "height": 342
        },
        "id": "P0Skxe54cECu",
        "outputId": "346386af-ce21-42a2-f750-1545bc199735"
      },
      "execution_count": null,
      "outputs": [
        {
          "output_type": "display_data",
          "data": {
            "text/plain": [
              "<Figure size 432x288 with 2 Axes>"
            ],
            "image/png": "[encoded data removed]"
          },
          "metadata": {
            "needs_background": "light"
          }
        }
      ]
    },
    {
      "cell_type": "markdown",
      "source": [
        "Coisas que podemos concluir deste mapa de calor:\n",
        "\n",
        "- OldbalanceOrg e NewbalanceOrg são altamente correlacionados.\n",
        "- OldbalanceDest e NewbalanceDest são altamente correlacionados.\n",
        "- O valor está correlacionado com isFraud (variável escolhida).\n",
        "\n",
        "Não existe muita relação entre as características, então precisamos entender onde a relação entre elas depende do tipo de transação e valor. Para fazer isso, precisamos ver o mapa de calor das transações fraudulentas e não fraudulentas de maneira diferente."
      ],
      "metadata": {
        "id": "7ac1bf7kcL2M"
      }
    },
    {
      "cell_type": "code",
      "source": [
        "fraud = data.loc[data.isFraud == 1]\n",
        "nonfraud = data.loc[data.isFraud == 0]"
      ],
      "metadata": {
        "id": "x5Gbo_7bcZi2"
      },
      "execution_count": null,
      "outputs": []
    },
    {
      "cell_type": "code",
      "source": [
        "fraudcount = fraud.isFraud.count()\n",
        "nonfraudcount = nonfraud.isFraud.count()"
      ],
      "metadata": {
        "id": "gARwL05YcdGs"
      },
      "execution_count": null,
      "outputs": []
    },
    {
      "cell_type": "code",
      "source": [
        "sns.heatmap(fraud.corr(),cmap='RdBu',);"
      ],
      "metadata": {
        "colab": {
          "base_uri": "https://localhost:8080/",
          "height": 342
        },
        "id": "aRpAlcQXcei_",
        "outputId": "d9219337-7dd9-4744-c05b-bbf5256bde5d"
      },
      "execution_count": null,
      "outputs": [
        {
          "output_type": "display_data",
          "data": {
            "text/plain": [
              "<Figure size 432x288 with 2 Axes>"
            ],
            "image/png": "[encoded data removed]"
          },
          "metadata": {
            "needs_background": "light"
          }
        }
      ]
    },
    {
      "cell_type": "markdown",
      "source": [
        "Existem 2 sinalizadores que se destacam, é interessante observar: coluna isFraud e isFlaggedFraud. A partir da hipótese, isFraud é o indicador que indica as transações fraudulentas reais, enquanto isFlaggedFraud é o que o sistema impede a transação devido ao acionamento de alguns limites. No mapa de calor acima, podemos ver que há alguma relação entre outras colunas e isFlaggedFraud, portanto, deve haver relação entre isFraud."
      ],
      "metadata": {
        "id": "9X3Jtr2fc3JF"
      }
    },
    {
      "cell_type": "code",
      "source": [
        "print(f'O número total de transações fraudulentas é {data.isFraud.sum()}.')\n",
        "print(f'O número total de transações fraudulentas marcadas como fraude é {data.isFlaggedFraud.sum()}.')\n",
        "print(f'A proporção de transação fraudulenta versus transação não fraudulenta é 1: {int(nonfraudcount//fraudcount)}.')"
      ],
      "metadata": {
        "colab": {
          "base_uri": "https://localhost:8080/"
        },
        "id": "ak99wxzAc8Eg",
        "outputId": "3f0fe150-0258-408e-85c5-73983d0e76f4"
      },
      "execution_count": null,
      "outputs": [
        {
          "output_type": "stream",
          "name": "stdout",
          "text": [
            "O número total de transações fraudulentas é 8213.\n",
            "O número total de transações fraudulentas marcadas como fraude é 16.\n",
            "A proporção de transação fraudulenta versus transação não fraudulenta é 1: 773.\n"
          ]
        }
      ]
    },
    {
      "cell_type": "code",
      "source": [
        "print('A cada 773 transações, 1 é fraudulenta.')\n",
        "print(f'O valor perdido devido a essas transações fraudulentas é de $ {int(fraud.amount.sum())}.')"
      ],
      "metadata": {
        "colab": {
          "base_uri": "https://localhost:8080/"
        },
        "id": "w5ndxiCtd0OC",
        "outputId": "f439c371-70aa-46e8-df42-dab466900bf9"
      },
      "execution_count": null,
      "outputs": [
        {
          "output_type": "stream",
          "name": "stdout",
          "text": [
            "A cada 773 transções, 1 é fraudulenta.\n",
            "O valor perdido devido a essas transações fraudulentas é de $ 12056415427.\n"
          ]
        }
      ]
    },
    {
      "cell_type": "code",
      "source": [
        "piedata = fraud.groupby(['isFlaggedFraud']).sum()"
      ],
      "metadata": {
        "id": "ciQogdfAeNyO"
      },
      "execution_count": null,
      "outputs": []
    },
    {
      "cell_type": "code",
      "source": [
        "f, axes = plt.subplots(1,1, figsize=(6,6))\n",
        "axes.set_title(\"% de transações fraudadas detectadas.\")\n",
        "piedata.plot(kind='pie',y='isFraud',ax=axes, fontsize=14,shadow=False,autopct='%1.1f%%');\n",
        "axes.set_ylabel('');\n",
        "plt.legend(loc='upper left',labels=['Não detectada','Detectada'])\n",
        "plt.show()"
      ],
      "metadata": {
        "colab": {
          "base_uri": "https://localhost:8080/",
          "height": 373
        },
        "id": "0ZS_d-gJePSX",
        "outputId": "83631edd-6b18-4c6b-c297-c2c63b8ae345"
      },
      "execution_count": null,
      "outputs": [
        {
          "output_type": "display_data",
          "data": {
            "text/plain": [
              "<Figure size 432x432 with 1 Axes>"
            ],
            "image/png": "[encoded data removed]"
          },
          "metadata": {}
        }
      ]
    },
    {
      "cell_type": "code",
      "source": [
        "fig = plt.figure()\n",
        "axes = fig.add_subplot(1,1,1)\n",
        "axes.set_title(\"Transações fraudadas que são sinalizadas corretamente\")\n",
        "axes.scatter(nonfraud['amount'],nonfraud['isFlaggedFraud'],c='g')\n",
        "axes.scatter(fraud['amount'],fraud['isFlaggedFraud'],c='r')\n",
        "plt.legend(loc='upper right',labels=['Not Flagged','Flagged'])\n",
        "plt.show()"
      ],
      "metadata": {
        "colab": {
          "base_uri": "https://localhost:8080/",
          "height": 294
        },
        "id": "s-QikcQMebLl",
        "outputId": "de192b58-3e80-41c8-843e-562a37f1e591"
      },
      "execution_count": null,
      "outputs": [
        {
          "output_type": "display_data",
          "data": {
            "text/plain": [
              "<Figure size 432x288 with 1 Axes>"
            ],
            "image/png": "[encoded data removed]"
          },
          "metadata": {
            "needs_background": "light"
          }
        }
      ]
    },
    {
      "cell_type": "markdown",
      "source": [
        "O gráfico acima mostra claramente a necessidade de um sistema que seja rápido e confiável para marcar a transação que é fraude. Desde então, o sistema atual permite que transações fraudulentas passem por um sistema que não as rotula como fraudulentas. Alguma exploração de dados pode ser útil para verificar a relação entre os recursos."
      ],
      "metadata": {
        "id": "jvt1YMAFfC4H"
      }
    },
    {
      "cell_type": "code",
      "source": [
        "fig = plt.figure()\n",
        "ax = fig.add_subplot(1,1,1)\n",
        "ax.scatter(nonfraud['oldbalanceOrg'],nonfraud['amount'],c='g')\n",
        "ax.scatter(fraud['oldbalanceOrg'],fraud['amount'],c='r')\n",
        "plt.show()"
      ],
      "metadata": {
        "colab": {
          "base_uri": "https://localhost:8080/",
          "height": 289
        },
        "id": "o2W73HH3fDbG",
        "outputId": "11499074-1c08-4f81-e517-7af44722eafb"
      },
      "execution_count": null,
      "outputs": [
        {
          "output_type": "display_data",
          "data": {
            "text/plain": [
              "<Figure size 432x288 with 1 Axes>"
            ],
            "image/png": "[encoded data removed]"
          },
          "metadata": {
            "needs_background": "light"
          }
        }
      ]
    },
    {
      "cell_type": "code",
      "source": [
        "fig = plt.figure()\n",
        "ax = fig.add_subplot(1,1,1)\n",
        "ax.scatter(fraud['step'],fraud['oldbalanceOrg'])\n",
        "ax.scatter(fraud['step'],fraud['oldbalanceDest'])\n",
        "plt.show()"
      ],
      "metadata": {
        "colab": {
          "base_uri": "https://localhost:8080/",
          "height": 276
        },
        "id": "W5SW8aZnfFqN",
        "outputId": "bda8eb07-7c1f-4287-a3eb-e9976b2d7565"
      },
      "execution_count": null,
      "outputs": [
        {
          "output_type": "display_data",
          "data": {
            "text/plain": [
              "<Figure size 432x288 with 1 Axes>"
            ],
            "image/png": "[encoded data removed]"
          },
          "metadata": {
            "needs_background": "light"
          }
        }
      ]
    },
    {
      "cell_type": "code",
      "source": [
        "fig = plt.figure()\n",
        "ax = fig.add_subplot(1,1,1)\n",
        "ax.scatter(fraud['step'],fraud['newbalanceOrg'])\n",
        "ax.scatter(fraud['step'],fraud['newbalanceDest'])\n",
        "plt.show()"
      ],
      "metadata": {
        "id": "gCn5LPfPfG_u",
        "outputId": "4db0a6a8-c33d-41fa-fe0e-c3c124f6089d",
        "colab": {
          "base_uri": "https://localhost:8080/",
          "height": 276
        }
      },
      "execution_count": null,
      "outputs": [
        {
          "output_type": "display_data",
          "data": {
            "text/plain": [
              "<Figure size 432x288 with 1 Axes>"
            ],
            "image/png": "[encoded data removed]"
          },
          "metadata": {
            "needs_background": "light"
          }
        }
      ]
    },
    {
      "cell_type": "code",
      "source": [
        "fig = plt.figure()\n",
        "ax = fig.add_subplot(1,1,1)\n",
        "ax.scatter(fraud['step'],fraud['newbalanceDest'])\n",
        "ax.scatter(fraud['step'],fraud['oldbalanceDest'])\n",
        "plt.show()"
      ],
      "metadata": {
        "id": "oSv-zwTwfJP_",
        "outputId": "271e5fe1-2e3b-4ac7-91d9-5deba020955a",
        "colab": {
          "base_uri": "https://localhost:8080/",
          "height": 276
        }
      },
      "execution_count": null,
      "outputs": [
        {
          "output_type": "display_data",
          "data": {
            "text/plain": [
              "<Figure size 432x288 with 1 Axes>"
            ],
            "image/png": "[encoded data removed]"
          },
          "metadata": {
            "needs_background": "light"
          }
        }
      ]
    },
    {
      "cell_type": "code",
      "source": [
        "fig = plt.figure()\n",
        "ax = fig.add_subplot(1,1,1)\n",
        "ax.scatter(fraud['step'],fraud['oldbalanceOrg'])\n",
        "ax.scatter(fraud['step'],fraud['newbalanceOrg'])\n",
        "plt.show()"
      ],
      "metadata": {
        "id": "SoWtOxBLfKdI",
        "outputId": "135771dd-f1b6-46d1-aa2b-81903c62b996",
        "colab": {
          "base_uri": "https://localhost:8080/",
          "height": 276
        }
      },
      "execution_count": null,
      "outputs": [
        {
          "output_type": "display_data",
          "data": {
            "text/plain": [
              "<Figure size 432x288 with 1 Axes>"
            ],
            "image/png": "[encoded data removed]"
          },
          "metadata": {
            "needs_background": "light"
          }
        }
      ]
    },
    {
      "cell_type": "markdown",
      "metadata": {
        "id": "U4tjw4GT4RjV"
      },
      "source": [
        "## **4. Classificadores**\n",
        "\n",
        "A partir da exploração dos dados, definimos modelos que levam em conta o tipo de transação, a quantidade transferida e o saldo da conta de origem antes e depois da transação."
      ]
    },
    {
      "cell_type": "markdown",
      "metadata": {
        "id": "U7pbN-gc6Fxt"
      },
      "source": [
        "### Preparamos o conjunto de treinamento e teste com estratificação da variável \"isFraud\" para o conjunto de dados com os Merchants:"
      ]
    },
    {
      "cell_type": "code",
      "execution_count": null,
      "metadata": {
        "id": "FeVHs8Yy6JTo"
      },
      "outputs": [],
      "source": [
        "X_cm = np.array(data[[\"type\", \"amount\", \"oldbalanceOrg\", \"newbalanceOrig\"]])\n",
        "y_cm = np.array(data[[\"isFraud\"]])\n",
        "y_cm = np.ravel(y_cm)\n",
        "classes = np.unique(y_cm) \n",
        "\n",
        "# Seleciona os conjuntos de treinamento e teste\n",
        "p = 0.7 \n",
        "X_cm_train, X_cm_test, y_cm_train, y_cm_test = train_test_split(X_cm, y_cm, stratify=y_cm,\n",
        "                                                    train_size = p, random_state = 42)\n",
        "\n",
        "# Normalização\n",
        "scaler = StandardScaler().fit(X_cm_train)\n",
        "X_cm_train = scaler.transform(X_cm_train)\n",
        "X_cm_test = scaler.transform(X_cm_test)"
      ]
    },
    {
      "cell_type": "markdown",
      "metadata": {
        "id": "DNWLAWnS6M6p"
      },
      "source": [
        "### Preparando o conjunto de treinamento e teste com estratificação da variável \"isFraud\" para o conjunto de dados sem os Merchants:"
      ]
    },
    {
      "cell_type": "code",
      "execution_count": null,
      "metadata": {
        "id": "lY0KU5DG6Scq"
      },
      "outputs": [],
      "source": [
        "X_sm = np.array(no_M_df[[\"type\", \"amount\", \"oldbalanceOrg\", \"newbalanceOrig\"]])\n",
        "y_sm = np.array(no_M_df[[\"isFraud\"]])\n",
        "y_sm = np.ravel(y_sm)\n",
        "classes = np.unique(y_sm)\n",
        "\n",
        "# Seleciona os conjuntos de treinamento e teste\n",
        "p = 0.7 \n",
        "X_sm_train, X_sm_test, y_sm_train, y_sm_test = train_test_split(X_sm, y_sm, stratify=y_sm,\n",
        "                                                    train_size = p, random_state = 42)\n",
        "\n",
        "# Normalização\n",
        "scaler = StandardScaler().fit(X_sm_train)\n",
        "X_sm_train = scaler.transform(X_sm_train)\n",
        "X_sm_test = scaler.transform(X_sm_test)"
      ]
    },
    {
      "cell_type": "markdown",
      "metadata": {
        "id": "65UC7O4I49UN"
      },
      "source": [
        "## **4.1. Classificador Naive Bayes** "
      ]
    },
    {
      "cell_type": "markdown",
      "metadata": {
        "id": "qMrqgU-o80u7"
      },
      "source": [
        "### **4.1.1. Classificador Naive Bayes para os dados com os Merchants**"
      ]
    },
    {
      "cell_type": "code",
      "execution_count": null,
      "metadata": {
        "id": "m3cIeeerKx3_"
      },
      "outputs": [],
      "source": [
        "# Ajuste do modelo\n",
        "model = GaussianNB()\n",
        "model.fit(X_cm_train, y_cm_train)\n",
        "y_pred_cm = model.predict(X_cm_test)"
      ]
    },
    {
      "cell_type": "markdown",
      "metadata": {
        "id": "xJKE3B8HjRz8"
      },
      "source": [
        "- Matriz de confusão"
      ]
    },
    {
      "cell_type": "code",
      "execution_count": null,
      "metadata": {
        "colab": {
          "base_uri": "https://localhost:8080/",
          "height": 290
        },
        "id": "2rnkrfP9jOnM",
        "outputId": "4d17426e-a925-428e-c1a2-f810fa5cb259"
      },
      "outputs": [
        {
          "data": {
            "image/png": "[encoded data removed]",
            "text/plain": [
              "<Figure size 432x288 with 2 Axes>"
            ]
          },
          "metadata": {},
          "output_type": "display_data"
        }
      ],
      "source": [
        "ConfusionMatrixDisplay(confusion_matrix = confusion_matrix(y_cm_test, y_pred_cm)).plot()\n",
        "plt.show()"
      ]
    },
    {
      "cell_type": "markdown",
      "metadata": {
        "id": "GwPDfXzaj0hN"
      },
      "source": [
        "- Classification report"
      ]
    },
    {
      "cell_type": "code",
      "execution_count": null,
      "metadata": {
        "colab": {
          "base_uri": "https://localhost:8080/"
        },
        "id": "mWAORqIgj1C_",
        "outputId": "87a7e40e-f4c5-4eb3-e8ef-f893e3eb51bf"
      },
      "outputs": [
        {
          "name": "stdout",
          "output_type": "stream",
          "text": [
            "              precision    recall  f1-score   support\n",
            "\n",
            "           0       1.00      1.00      1.00   1906322\n",
            "           1       0.04      0.16      0.07      2464\n",
            "\n",
            "    accuracy                           0.99   1908786\n",
            "   macro avg       0.52      0.58      0.53   1908786\n",
            "weighted avg       1.00      0.99      1.00   1908786\n",
            "\n"
          ]
        }
      ],
      "source": [
        "print(classification_report(y_cm_test, y_pred_cm))"
      ]
    },
    {
      "cell_type": "markdown",
      "metadata": {
        "id": "TSLup7Pd9X0C"
      },
      "source": [
        "### **4.1.2. Classificador Naive Bayes para os dados sem os Merchants**"
      ]
    },
    {
      "cell_type": "code",
      "execution_count": null,
      "metadata": {
        "id": "lvhScbqn9bgU"
      },
      "outputs": [],
      "source": [
        "# Ajuste do modelo\n",
        "model = GaussianNB()\n",
        "model.fit(X_sm_train, y_sm_train)\n",
        "y_pred_sm = model.predict(X_sm_test)"
      ]
    },
    {
      "cell_type": "markdown",
      "metadata": {
        "id": "fV3GN9cFjbo9"
      },
      "source": [
        "- Matriz de confusão"
      ]
    },
    {
      "cell_type": "code",
      "execution_count": null,
      "metadata": {
        "colab": {
          "base_uri": "https://localhost:8080/",
          "height": 290
        },
        "id": "ZowI2AILjeQ9",
        "outputId": "457c6731-4d32-4773-9129-213774565bea"
      },
      "outputs": [
        {
          "data": {
            "image/png": "[encoded data removed]",
            "text/plain": [
              "<Figure size 432x288 with 2 Axes>"
            ]
          },
          "metadata": {},
          "output_type": "display_data"
        }
      ],
      "source": [
        "ConfusionMatrixDisplay(confusion_matrix = confusion_matrix(y_sm_test, y_pred_sm)).plot()\n",
        "plt.show()"
      ]
    },
    {
      "cell_type": "markdown",
      "metadata": {
        "id": "UrGT2q6wjuJX"
      },
      "source": [
        "- Classification report"
      ]
    },
    {
      "cell_type": "code",
      "execution_count": null,
      "metadata": {
        "colab": {
          "base_uri": "https://localhost:8080/"
        },
        "id": "9iJAsD48jr8M",
        "outputId": "8f06f3d6-2605-4dc1-e07b-f3381a344477"
      },
      "outputs": [
        {
          "name": "stdout",
          "output_type": "stream",
          "text": [
            "              precision    recall  f1-score   support\n",
            "\n",
            "           0       1.00      0.99      1.00   1260874\n",
            "           1       0.05      0.16      0.08      2464\n",
            "\n",
            "    accuracy                           0.99   1263338\n",
            "   macro avg       0.53      0.58      0.54   1263338\n",
            "weighted avg       1.00      0.99      0.99   1263338\n",
            "\n"
          ]
        }
      ],
      "source": [
        "print(classification_report(y_sm_test, y_pred_sm))"
      ]
    },
    {
      "cell_type": "markdown",
      "metadata": {
        "id": "mDrGqVVrLHqK"
      },
      "source": [
        "## **4.2. Regressão Logística**"
      ]
    },
    {
      "cell_type": "markdown",
      "metadata": {
        "id": "3f_bTcKZ-P-c"
      },
      "source": [
        "### **4.2.1. Regressão Logística para os dados com os Merchants**"
      ]
    },
    {
      "cell_type": "code",
      "execution_count": null,
      "metadata": {
        "id": "DWDHdXc-LJFx"
      },
      "outputs": [],
      "source": [
        "# Ajuste do modelo\n",
        "model = LogisticRegression(solver = 'lbfgs', multi_class = 'auto', max_iter = 1000)\n",
        "model.fit(X_cm_train, y_cm_train)\n",
        "y_pred_cm = model.predict(X_cm_test)"
      ]
    },
    {
      "cell_type": "markdown",
      "metadata": {
        "id": "5gVveannF646"
      },
      "source": [
        "- Matriz de confusão"
      ]
    },
    {
      "cell_type": "code",
      "execution_count": null,
      "metadata": {
        "colab": {
          "base_uri": "https://localhost:8080/",
          "height": 290
        },
        "id": "TKCxP2ePFxI0",
        "outputId": "ac4186b7-2ec0-4701-bf68-768c1782d74a"
      },
      "outputs": [
        {
          "data": {
            "image/png": "[encoded data removed]",
            "text/plain": [
              "<Figure size 432x288 with 2 Axes>"
            ]
          },
          "metadata": {},
          "output_type": "display_data"
        }
      ],
      "source": [
        "ConfusionMatrixDisplay(confusion_matrix = confusion_matrix(y_cm_test, y_pred_cm)).plot()\n",
        "plt.show()"
      ]
    },
    {
      "cell_type": "markdown",
      "metadata": {
        "id": "xsY-Ph1oF90V"
      },
      "source": [
        "- Classification report"
      ]
    },
    {
      "cell_type": "code",
      "execution_count": null,
      "metadata": {
        "colab": {
          "base_uri": "https://localhost:8080/"
        },
        "id": "6769DOlaF5rY",
        "outputId": "0b90737a-9e0b-46e6-cad4-fc0c1cdfe969"
      },
      "outputs": [
        {
          "name": "stdout",
          "output_type": "stream",
          "text": [
            "              precision    recall  f1-score   support\n",
            "\n",
            "           0       1.00      1.00      1.00   1906322\n",
            "           1       0.86      0.36      0.51      2464\n",
            "\n",
            "    accuracy                           1.00   1908786\n",
            "   macro avg       0.93      0.68      0.75   1908786\n",
            "weighted avg       1.00      1.00      1.00   1908786\n",
            "\n"
          ]
        }
      ],
      "source": [
        "print(classification_report(y_cm_test, y_pred_cm))"
      ]
    },
    {
      "cell_type": "markdown",
      "metadata": {
        "id": "20jEleEU_KHC"
      },
      "source": [
        "### **4.2.2. Regressão Logística para os dados sem os Merchants**"
      ]
    },
    {
      "cell_type": "code",
      "execution_count": null,
      "metadata": {
        "id": "VHZSBmu6_Okk"
      },
      "outputs": [],
      "source": [
        "# Ajuste do modelo\n",
        "model = LogisticRegression(solver = 'lbfgs', multi_class = 'auto', max_iter = 1000)\n",
        "model.fit(X_sm_train, y_sm_train)\n",
        "y_pred_sm = model.predict(X_sm_test)"
      ]
    },
    {
      "cell_type": "markdown",
      "metadata": {
        "id": "2OHbQ6bCBVEh"
      },
      "source": [
        "- Matriz de confusão"
      ]
    },
    {
      "cell_type": "code",
      "execution_count": null,
      "metadata": {
        "colab": {
          "base_uri": "https://localhost:8080/",
          "height": 290
        },
        "id": "7LmBr6djh62e",
        "outputId": "2854ec33-7333-40e1-dbab-a458f2871b6c"
      },
      "outputs": [
        {
          "data": {
            "image/png": "[encoded data removed]",
            "text/plain": [
              "<Figure size 432x288 with 2 Axes>"
            ]
          },
          "metadata": {},
          "output_type": "display_data"
        }
      ],
      "source": [
        "ConfusionMatrixDisplay(confusion_matrix = confusion_matrix(y_sm_test, y_pred_sm)).plot()\n",
        "plt.show()"
      ]
    },
    {
      "cell_type": "markdown",
      "metadata": {
        "id": "FfssfkMxGB40"
      },
      "source": [
        "- Classification report"
      ]
    },
    {
      "cell_type": "code",
      "execution_count": null,
      "metadata": {
        "colab": {
          "base_uri": "https://localhost:8080/"
        },
        "id": "0qlJQGtspohc",
        "outputId": "9da113e4-4dbb-4028-fd57-760c56ab3616"
      },
      "outputs": [
        {
          "name": "stdout",
          "output_type": "stream",
          "text": [
            "              precision    recall  f1-score   support\n",
            "\n",
            "           0       1.00      1.00      1.00   1260874\n",
            "           1       0.90      0.37      0.52      2464\n",
            "\n",
            "    accuracy                           1.00   1263338\n",
            "   macro avg       0.95      0.68      0.76   1263338\n",
            "weighted avg       1.00      1.00      1.00   1263338\n",
            "\n"
          ]
        }
      ],
      "source": [
        "print(classification_report(y_sm_test, y_pred_sm))"
      ]
    },
    {
      "cell_type": "markdown",
      "metadata": {
        "id": "v28O2i1oLoc2"
      },
      "source": [
        "## **4.3. Árvore de Decisão**"
      ]
    },
    {
      "cell_type": "markdown",
      "metadata": {
        "id": "2yf87WPYB-kl"
      },
      "source": [
        "### **4.3.1. Árvore de Decisão para os dados com os Merchants**"
      ]
    },
    {
      "cell_type": "code",
      "execution_count": null,
      "metadata": {
        "id": "v278pstKLryn"
      },
      "outputs": [],
      "source": [
        "# Ajuste do modelo\n",
        "model = DecisionTreeClassifier()\n",
        "model.fit(X_cm_train, y_cm_train)\n",
        "y_pred_cm = model.predict(X_cm_test)"
      ]
    },
    {
      "cell_type": "markdown",
      "metadata": {
        "id": "SHHyes-tS3Ql"
      },
      "source": [
        "- Matriz de confusão"
      ]
    },
    {
      "cell_type": "code",
      "execution_count": null,
      "metadata": {
        "colab": {
          "base_uri": "https://localhost:8080/",
          "height": 290
        },
        "id": "8pfCkMMrr-uM",
        "outputId": "01ed24ba-a5db-417c-c07c-f1b5bcc92d57"
      },
      "outputs": [
        {
          "data": {
            "image/png": "[encoded data removed]",
            "text/plain": [
              "<Figure size 432x288 with 2 Axes>"
            ]
          },
          "metadata": {},
          "output_type": "display_data"
        }
      ],
      "source": [
        "ConfusionMatrixDisplay(confusion_matrix = confusion_matrix(y_cm_test, y_pred_cm)).plot()\n",
        "plt.show()"
      ]
    },
    {
      "cell_type": "markdown",
      "metadata": {
        "id": "ztn545mZ4OY6"
      },
      "source": [
        "- Classification report"
      ]
    },
    {
      "cell_type": "code",
      "execution_count": null,
      "metadata": {
        "colab": {
          "base_uri": "https://localhost:8080/"
        },
        "id": "ru633tyf4O8v",
        "outputId": "a6b7c5c1-79d2-4847-cd0b-8b1f17b8fc5a"
      },
      "outputs": [
        {
          "name": "stdout",
          "output_type": "stream",
          "text": [
            "              precision    recall  f1-score   support\n",
            "\n",
            "           0       1.00      1.00      1.00   1906322\n",
            "           1       0.89      0.88      0.88      2464\n",
            "\n",
            "    accuracy                           1.00   1908786\n",
            "   macro avg       0.94      0.94      0.94   1908786\n",
            "weighted avg       1.00      1.00      1.00   1908786\n",
            "\n"
          ]
        }
      ],
      "source": [
        "print(classification_report(y_cm_test, y_pred_cm))"
      ]
    },
    {
      "cell_type": "markdown",
      "metadata": {
        "id": "CtbKENGaCHHd"
      },
      "source": [
        "### **4.3.2. Árvore de Decisão para os dados sem os Merchants**"
      ]
    },
    {
      "cell_type": "code",
      "execution_count": null,
      "metadata": {
        "id": "Kxsm00RlCGH1"
      },
      "outputs": [],
      "source": [
        "# Ajuste do modelo\n",
        "model = DecisionTreeClassifier()\n",
        "model.fit(X_sm_train, y_sm_train)\n",
        "y_pred_sm = model.predict(X_sm_test)"
      ]
    },
    {
      "cell_type": "markdown",
      "metadata": {
        "id": "r8jf_7HX50OI"
      },
      "source": [
        "- Matriz de confusão"
      ]
    },
    {
      "cell_type": "code",
      "execution_count": null,
      "metadata": {
        "colab": {
          "base_uri": "https://localhost:8080/",
          "height": 290
        },
        "id": "kvXxK-Zg5zWV",
        "outputId": "d8845bff-c3e6-4b18-d0e0-9e0df3025b31"
      },
      "outputs": [
        {
          "data": {
            "image/png": "[encoded data removed]",
            "text/plain": [
              "<Figure size 432x288 with 2 Axes>"
            ]
          },
          "metadata": {},
          "output_type": "display_data"
        }
      ],
      "source": [
        "ConfusionMatrixDisplay(confusion_matrix = confusion_matrix(y_sm_test, y_pred_sm)).plot()\n",
        "plt.show()"
      ]
    },
    {
      "cell_type": "markdown",
      "metadata": {
        "id": "VaGioTpp5zFZ"
      },
      "source": [
        "- Classification report"
      ]
    },
    {
      "cell_type": "code",
      "execution_count": null,
      "metadata": {
        "colab": {
          "base_uri": "https://localhost:8080/"
        },
        "id": "443vZ4We56dy",
        "outputId": "672524c5-e2bb-4cc3-c35a-15b73a742270"
      },
      "outputs": [
        {
          "name": "stdout",
          "output_type": "stream",
          "text": [
            "              precision    recall  f1-score   support\n",
            "\n",
            "           0       1.00      1.00      1.00   1260874\n",
            "           1       0.88      0.87      0.88      2464\n",
            "\n",
            "    accuracy                           1.00   1263338\n",
            "   macro avg       0.94      0.94      0.94   1263338\n",
            "weighted avg       1.00      1.00      1.00   1263338\n",
            "\n"
          ]
        }
      ],
      "source": [
        "print(classification_report(y_sm_test, y_pred_sm))"
      ]
    },
    {
      "cell_type": "markdown",
      "metadata": {
        "id": "2IJLti4QOCrU"
      },
      "source": [
        "## **4.4. K-Vizinhos**"
      ]
    },
    {
      "cell_type": "markdown",
      "metadata": {
        "id": "2ucdLvZcOKuU"
      },
      "source": [
        "### **4.4.1 K-Vizinhos para os dados com os Merchants**"
      ]
    },
    {
      "cell_type": "code",
      "execution_count": null,
      "metadata": {
        "id": "vZ_RFX5wWxHt"
      },
      "outputs": [],
      "source": [
        "k = 1 # numero de vizinhos\n",
        "# Ajuste do modelo\n",
        "model = KNeighborsClassifier(n_neighbors=k, metric = 'euclidean')\n",
        "model.fit(X_cm_train,y_cm_train)\n",
        "y_pred_cm = model.predict(X_cm_test) "
      ]
    },
    {
      "cell_type": "markdown",
      "source": [
        "- Matriz de confusão"
      ],
      "metadata": {
        "id": "bTkb9885yX3N"
      }
    },
    {
      "cell_type": "code",
      "source": [
        "ConfusionMatrixDisplay(confusion_matrix = confusion_matrix(y_cm_test, y_pred_cm)).plot()\n",
        "plt.show()"
      ],
      "metadata": {
        "colab": {
          "base_uri": "https://localhost:8080/",
          "height": 290
        },
        "id": "fcr7agk71J8D",
        "outputId": "4eaa7646-698f-46e7-df9a-ce3a10ff1616"
      },
      "execution_count": null,
      "outputs": [
        {
          "output_type": "display_data",
          "data": {
            "text/plain": [
              "<Figure size 432x288 with 2 Axes>"
            ],
            "image/png": "[encoded data removed]"
          },
          "metadata": {
            "needs_background": "light"
          }
        }
      ]
    },
    {
      "cell_type": "markdown",
      "source": [
        "- Classification report"
      ],
      "metadata": {
        "id": "cMmNcN58ya7R"
      }
    },
    {
      "cell_type": "code",
      "source": [
        "print(classification_report(y_cm_test, y_pred_cm))"
      ],
      "metadata": {
        "colab": {
          "base_uri": "https://localhost:8080/"
        },
        "id": "kwxKcwkY1U5Y",
        "outputId": "a3d53311-5cea-4dc2-b068-d3f8fbbc0747"
      },
      "execution_count": null,
      "outputs": [
        {
          "output_type": "stream",
          "name": "stdout",
          "text": [
            "              precision    recall  f1-score   support\n",
            "\n",
            "           0       1.00      1.00      1.00   1906322\n",
            "           1       0.79      0.87      0.83      2464\n",
            "\n",
            "    accuracy                           1.00   1908786\n",
            "   macro avg       0.89      0.94      0.91   1908786\n",
            "weighted avg       1.00      1.00      1.00   1908786\n",
            "\n"
          ]
        }
      ]
    },
    {
      "cell_type": "markdown",
      "metadata": {
        "id": "YcPFXf8AOehg"
      },
      "source": [
        "### **4.4.2. K-Vizinhos para os dados sem os Merchants**"
      ]
    },
    {
      "cell_type": "code",
      "execution_count": null,
      "metadata": {
        "id": "ecCOhPYuOf-a"
      },
      "outputs": [],
      "source": [
        "k = 1 # numero de vizinhos\n",
        "# Ajuste do modelo\n",
        "model = KNeighborsClassifier(n_neighbors=k, metric = 'euclidean')\n",
        "model.fit(X_sm_train,y_sm_train)\n",
        "y_pred_sm = model.predict(X_sm_test) "
      ]
    },
    {
      "cell_type": "markdown",
      "source": [
        "- Matriz de confusão"
      ],
      "metadata": {
        "id": "lbmAUnywygHL"
      }
    },
    {
      "cell_type": "code",
      "source": [
        "ConfusionMatrixDisplay(confusion_matrix = confusion_matrix(y_sm_test, y_pred_sm)).plot()\n",
        "plt.show()"
      ],
      "metadata": {
        "colab": {
          "base_uri": "https://localhost:8080/",
          "height": 290
        },
        "id": "dp_Sc_2d1uw_",
        "outputId": "3c81be41-1c11-440e-9e6e-7c09c642d900"
      },
      "execution_count": null,
      "outputs": [
        {
          "output_type": "display_data",
          "data": {
            "text/plain": [
              "<Figure size 432x288 with 2 Axes>"
            ],
            "image/png": "[encoded data removed]"
          },
          "metadata": {
            "needs_background": "light"
          }
        }
      ]
    },
    {
      "cell_type": "markdown",
      "source": [
        "- Classification report"
      ],
      "metadata": {
        "id": "XPCpLmw-yiYb"
      }
    },
    {
      "cell_type": "code",
      "source": [
        "print(classification_report(y_sm_test, y_pred_sm))"
      ],
      "metadata": {
        "colab": {
          "base_uri": "https://localhost:8080/"
        },
        "id": "Q7y0mOyU1wlJ",
        "outputId": "9dcce98f-bdcf-4caa-93f0-b713541cc3b8"
      },
      "execution_count": null,
      "outputs": [
        {
          "output_type": "stream",
          "name": "stdout",
          "text": [
            "              precision    recall  f1-score   support\n",
            "\n",
            "           0       1.00      1.00      1.00   1260874\n",
            "           1       0.79      0.87      0.83      2464\n",
            "\n",
            "    accuracy                           1.00   1263338\n",
            "   macro avg       0.90      0.94      0.92   1263338\n",
            "weighted avg       1.00      1.00      1.00   1263338\n",
            "\n"
          ]
        }
      ]
    },
    {
      "cell_type": "markdown",
      "metadata": {
        "id": "EcMwZjWd8Srk"
      },
      "source": [
        "## **4.5. Random Forest**"
      ]
    },
    {
      "cell_type": "markdown",
      "metadata": {
        "id": "Y-IbQYcN84jV"
      },
      "source": [
        "### **4.5.1. Random Forest para os dados com os Merchants**"
      ]
    },
    {
      "cell_type": "code",
      "execution_count": null,
      "metadata": {
        "colab": {
          "base_uri": "https://localhost:8080/",
          "height": 541
        },
        "id": "L1vxqSTMUSpQ",
        "outputId": "7896d4f2-8f2e-4912-c69c-1677bbdc79a3"
      },
      "outputs": [
        {
          "name": "stdout",
          "output_type": "stream",
          "text": [
            "Number of Estimators: 1 Accuracy: 0.9995934588790991\n",
            "Number of Estimators: 11 Accuracy: 0.9997223366055702\n",
            "Number of Estimators: 21 Accuracy: 0.9997380534014814\n",
            "Number of Estimators: 31 Accuracy: 0.9997495790518162\n",
            "Number of Estimators: 41 Accuracy: 0.9997359578286932\n",
            "Number of Estimators: 51 Accuracy: 0.9997427684402547\n",
            "Number of Estimators: 61 Accuracy: 0.9997422445470576\n",
            "Number of Estimators: 71 Accuracy: 0.9997401489742695\n",
            "Number of Estimators: 81 Accuracy: 0.9997417206538606\n",
            "Number of Estimators: 91 Accuracy: 0.9997432923334517\n",
            "Melhor n: 31  com acurácia: 0.9997495790518162\n"
          ]
        },
        {
          "data": {
            "image/png": "[encoded data removed]",
            "text/plain": [
              "<Figure size 720x360 with 1 Axes>"
            ]
          },
          "metadata": {},
          "output_type": "display_data"
        }
      ],
      "source": [
        "# Ajuste do modelo\n",
        "vscore = []\n",
        "vn = []\n",
        "for n in range(1,100,10):\n",
        "    model = RandomForestClassifier(n_estimators=n)\n",
        "    model.fit(X_cm_train,y_cm_train)\n",
        "    y_pred_cm = model.predict(X_cm_test) \n",
        "    score = accuracy_score(y_pred_cm, y_cm_test)\n",
        "    print('Number of Estimators:', n, 'Accuracy:', score)\n",
        "    vscore.append(score)\n",
        "    vn.append(n)\n",
        "best_n = vn[np.argmax(vscore)]\n",
        "print('Melhor n:', best_n, ' com acurácia:', vscore[np.argmax(vscore)] )\n",
        "plt.figure(figsize=(10,5))\n",
        "plt.plot(vn, vscore, '-bo')\n",
        "plt.xlabel('Number of Estimators', fontsize = 15)\n",
        "plt.ylabel('Accuracy', fontsize = 15)\n",
        "plt.show()"
      ]
    },
    {
      "cell_type": "code",
      "execution_count": null,
      "metadata": {
        "id": "j0uYWww18f2m"
      },
      "outputs": [],
      "source": [
        "# Define os parâmetros do modelo\n",
        "model=RandomForestClassifier(n_estimators=31)\n",
        "model.fit(X_cm_train,y_cm_train)\n",
        "y_pred_cm = model.predict(X_cm_test)"
      ]
    },
    {
      "cell_type": "markdown",
      "source": [
        "- A curva ROC indica um bom ajuste do modelo para a classificação"
      ],
      "metadata": {
        "id": "711L2jct6x4s"
      }
    },
    {
      "cell_type": "code",
      "source": [
        "y_predict_probabilities = model.predict_proba(X_cm_test)[:,1]\n",
        "test_y = np.array(y_cm_test, dtype = 'int')\n",
        "fpr, tpr, thresholds = roc_curve(y_cm_test, y_predict_probabilities)\n",
        "roc_auc = auc(fpr, tpr)\n",
        "\n",
        "plt.figure(figsize=(8,6))\n",
        "plt.step(fpr, tpr, color='b', alpha=0.1, where='post')\n",
        "plt.fill_between(fpr, tpr, step='post', alpha=0.2, color='b')\n",
        "plt.text(0.4, 0.2, 'ROC area = %0.2f' % roc_auc, fontsize = 30)\n",
        "plt.plot([0, 1], [0, 1], color='navy', lw=2, linestyle='--')\n",
        "plt.xlim([0.0, 1.0])\n",
        "plt.ylim([0.0, 1.05])\n",
        "plt.xlabel('False Positive Rate', fontsize = 20)\n",
        "plt.ylabel('True Positive Rate', fontsize = 20)\n",
        "plt.xticks(color='k', size=30)\n",
        "plt.yticks(color='k', size=30)\n",
        "plt.title('Curva ROC')\n",
        "plt.show()"
      ],
      "metadata": {
        "colab": {
          "base_uri": "https://localhost:8080/",
          "height": 432
        },
        "id": "DFCTNMFw5jT1",
        "outputId": "5efc86ab-ad46-4f6d-9eb1-bdd35f351d84"
      },
      "execution_count": null,
      "outputs": [
        {
          "output_type": "display_data",
          "data": {
            "text/plain": [
              "<Figure size 576x432 with 1 Axes>"
            ],
            "image/png": "[encoded data removed]"
          },
          "metadata": {
            "needs_background": "light"
          }
        }
      ]
    },
    {
      "cell_type": "markdown",
      "metadata": {
        "id": "Ac0JTlakNaw_"
      },
      "source": [
        "- Matriz de confusão"
      ]
    },
    {
      "cell_type": "code",
      "execution_count": null,
      "metadata": {
        "colab": {
          "base_uri": "https://localhost:8080/",
          "height": 290
        },
        "id": "pGEczaNOL0n-",
        "outputId": "1f5580e4-b453-4286-f479-fd1773731a78"
      },
      "outputs": [
        {
          "output_type": "display_data",
          "data": {
            "text/plain": [
              "<Figure size 432x288 with 2 Axes>"
            ],
            "image/png": "[encoded data removed]"
          },
          "metadata": {
            "needs_background": "light"
          }
        }
      ],
      "source": [
        "ConfusionMatrixDisplay(confusion_matrix = confusion_matrix(y_cm_test, y_pred_cm)).plot()\n",
        "plt.show()"
      ]
    },
    {
      "cell_type": "markdown",
      "metadata": {
        "id": "2EtSGyQWNZmI"
      },
      "source": [
        "- Classification report"
      ]
    },
    {
      "cell_type": "code",
      "execution_count": null,
      "metadata": {
        "colab": {
          "base_uri": "https://localhost:8080/"
        },
        "id": "NvVKulb_NYvi",
        "outputId": "6c079b83-7bae-4aad-f9b5-9f6a2599eadf"
      },
      "outputs": [
        {
          "output_type": "stream",
          "name": "stdout",
          "text": [
            "              precision    recall  f1-score   support\n",
            "\n",
            "           0       1.00      1.00      1.00   1906322\n",
            "           1       0.91      0.88      0.89      2464\n",
            "\n",
            "    accuracy                           1.00   1908786\n",
            "   macro avg       0.95      0.94      0.95   1908786\n",
            "weighted avg       1.00      1.00      1.00   1908786\n",
            "\n"
          ]
        }
      ],
      "source": [
        "print(classification_report(y_cm_test, y_pred_cm))"
      ]
    },
    {
      "cell_type": "markdown",
      "metadata": {
        "id": "JotDJpxaQUNr"
      },
      "source": [
        "### **4.5.2. Random Forest para os dados sem os Merchants**"
      ]
    },
    {
      "cell_type": "code",
      "execution_count": null,
      "metadata": {
        "colab": {
          "background_save": true,
          "base_uri": "https://localhost:8080/"
        },
        "id": "aTkq6UENQZFB",
        "outputId": "940df8c8-d43c-4114-9482-9abad04f0bf8"
      },
      "outputs": [
        {
          "name": "stdout",
          "output_type": "stream",
          "text": [
            "Number of Estimators: 1 Accuracy: 0.9993343032505948\n",
            "Number of Estimators: 11 Accuracy: 0.9995591045310123\n",
            "Number of Estimators: 21 Accuracy: 0.9995670200690552\n",
            "Number of Estimators: 31 Accuracy: 0.9995567298695994\n",
            "Number of Estimators: 41 Accuracy: 0.9995852258065537\n",
            "Number of Estimators: 51 Accuracy: 0.9995670200690552\n",
            "Number of Estimators: 61 Accuracy: 0.9995828511451409\n",
            "Number of Estimators: 71 Accuracy: 0.9995796849299238\n",
            "Number of Estimators: 81 Accuracy: 0.9995788933761195\n",
            "Number of Estimators: 91 Accuracy: 0.9995733524994894\n",
            "Melhor n: 41  com acurácia: 0.9995852258065537\n"
          ]
        },
        {
          "data": {
            "image/png": "[encoded data removed]",
            "text/plain": [
              "<Figure size 720x360 with 1 Axes>"
            ]
          },
          "metadata": {},
          "output_type": "display_data"
        }
      ],
      "source": [
        "# Ajuste do modelo\n",
        "vscore = []\n",
        "vn = []\n",
        "for n in range(1,100,10):\n",
        "    model = RandomForestClassifier(n_estimators=n)\n",
        "    model.fit(X_sm_train,y_sm_train)\n",
        "    y_pred_sm = model.predict(X_sm_test) \n",
        "    score = accuracy_score(y_pred_sm, y_sm_test)\n",
        "    print('Number of Estimators:', n, 'Accuracy:', score)\n",
        "    vscore.append(score)\n",
        "    vn.append(n)\n",
        "best_n = vn[np.argmax(vscore)]\n",
        "print('Melhor n:', best_n, ' com acurácia:', vscore[np.argmax(vscore)] )\n",
        "plt.figure(figsize=(10,5))\n",
        "plt.plot(vn, vscore, '-bo')\n",
        "plt.xlabel('Number of Estimators', fontsize = 15)\n",
        "plt.ylabel('Accuracy', fontsize = 15)\n",
        "plt.show()"
      ]
    },
    {
      "cell_type": "code",
      "execution_count": null,
      "metadata": {
        "id": "Zk2VYGNaQZMk"
      },
      "outputs": [],
      "source": [
        "# Define os parâmetros do modelo\n",
        "model=RandomForestClassifier(n_estimators=41)\n",
        "model.fit(X_sm_train,y_sm_train)\n",
        "y_pred_sm = model.predict(X_sm_test)"
      ]
    },
    {
      "cell_type": "markdown",
      "source": [
        "- A curva ROC indica um bom ajuste do modelo para a classificação"
      ],
      "metadata": {
        "id": "kuqihtoz7Tlh"
      }
    },
    {
      "cell_type": "code",
      "source": [
        "y_predict_probabilities = model.predict_proba(X_sm_test)[:,1]\n",
        "test_y = np.array(y_sm_test, dtype = 'int')\n",
        "fpr, tpr, thresholds = roc_curve(y_sm_test, y_predict_probabilities)\n",
        "roc_auc = auc(fpr, tpr)\n",
        "\n",
        "plt.figure(figsize=(8,6))\n",
        "plt.step(fpr, tpr, color='b', alpha=0.1, where='post')\n",
        "plt.fill_between(fpr, tpr, step='post', alpha=0.2, color='b')\n",
        "plt.text(0.4, 0.2, 'ROC area = %0.2f' % roc_auc, fontsize = 30)\n",
        "plt.plot([0, 1], [0, 1], color='navy', lw=2, linestyle='--')\n",
        "plt.xlim([0.0, 1.0])\n",
        "plt.ylim([0.0, 1.05])\n",
        "plt.xlabel('False Positive Rate', fontsize = 20)\n",
        "plt.ylabel('True Positive Rate', fontsize = 20)\n",
        "plt.xticks(color='k', size=30)\n",
        "plt.yticks(color='k', size=30)\n",
        "plt.title('Curva ROC')\n",
        "plt.show()"
      ],
      "metadata": {
        "colab": {
          "base_uri": "https://localhost:8080/",
          "height": 432
        },
        "id": "EgPZrN4z7Oyb",
        "outputId": "b04aac95-0b89-4cf6-b1b0-6525114b8f8e"
      },
      "execution_count": null,
      "outputs": [
        {
          "output_type": "display_data",
          "data": {
            "text/plain": [
              "<Figure size 576x432 with 1 Axes>"
            ],
            "image/png": "[encoded data removed]"
          },
          "metadata": {
            "needs_background": "light"
          }
        }
      ]
    },
    {
      "cell_type": "markdown",
      "metadata": {
        "id": "60rIoWtoVAWJ"
      },
      "source": [
        "- Matriz de confusão"
      ]
    },
    {
      "cell_type": "code",
      "execution_count": null,
      "metadata": {
        "colab": {
          "base_uri": "https://localhost:8080/",
          "height": 290
        },
        "id": "Y8K0TXI-VCqq",
        "outputId": "c7c78133-5b09-468e-b4ea-0d6fe70a6179"
      },
      "outputs": [
        {
          "output_type": "display_data",
          "data": {
            "text/plain": [
              "<Figure size 432x288 with 2 Axes>"
            ],
            "image/png": "[encoded data removed]"
          },
          "metadata": {
            "needs_background": "light"
          }
        }
      ],
      "source": [
        "ConfusionMatrixDisplay(confusion_matrix = confusion_matrix(y_sm_test, y_pred_sm)).plot()\n",
        "plt.show()"
      ]
    },
    {
      "cell_type": "markdown",
      "metadata": {
        "id": "Z18rO4z8VGVZ"
      },
      "source": [
        "- Classification report"
      ]
    },
    {
      "cell_type": "code",
      "execution_count": null,
      "metadata": {
        "colab": {
          "base_uri": "https://localhost:8080/"
        },
        "id": "fvRnka0oVIpS",
        "outputId": "409ffa39-0613-4fd5-e296-94a489f70fae"
      },
      "outputs": [
        {
          "output_type": "stream",
          "name": "stdout",
          "text": [
            "              precision    recall  f1-score   support\n",
            "\n",
            "           0       1.00      1.00      1.00   1260874\n",
            "           1       0.90      0.88      0.89      2464\n",
            "\n",
            "    accuracy                           1.00   1263338\n",
            "   macro avg       0.95      0.94      0.95   1263338\n",
            "weighted avg       1.00      1.00      1.00   1263338\n",
            "\n"
          ]
        }
      ],
      "source": [
        "print(classification_report(y_sm_test, y_pred_sm))"
      ]
    },
    {
      "cell_type": "markdown",
      "metadata": {
        "id": "9LKG04Ic7r0B"
      },
      "source": [
        "## **4.6. Gradient Boosting**"
      ]
    },
    {
      "cell_type": "markdown",
      "source": [
        "### **4.6.1. Gradient Boosting para os dados com os Merchants**"
      ],
      "metadata": {
        "id": "nZnn8d2aySgp"
      }
    },
    {
      "cell_type": "code",
      "execution_count": null,
      "metadata": {
        "id": "iw8vNgsy91Fp"
      },
      "outputs": [],
      "source": [
        "# Ajuste do modelo\n",
        "model = HistGradientBoostingClassifier(random_state=0, learning_rate = 0.1)\n",
        "model.fit(X_cm_train,y_cm_train)\n",
        "y_pred_cm = model.predict(X_cm_test) "
      ]
    },
    {
      "cell_type": "markdown",
      "source": [
        "- Matriz de confusão"
      ],
      "metadata": {
        "id": "LdOaxP2VzLRy"
      }
    },
    {
      "cell_type": "code",
      "execution_count": null,
      "metadata": {
        "colab": {
          "base_uri": "https://localhost:8080/",
          "height": 290
        },
        "id": "Uqv2bcGS-XrV",
        "outputId": "4e2d1269-1132-4089-a0ee-fb7e35c4e329"
      },
      "outputs": [
        {
          "output_type": "display_data",
          "data": {
            "text/plain": [
              "<Figure size 432x288 with 2 Axes>"
            ],
            "image/png": "[encoded data removed]"
          },
          "metadata": {
            "needs_background": "light"
          }
        }
      ],
      "source": [
        "ConfusionMatrixDisplay(confusion_matrix = confusion_matrix(y_cm_test, y_pred_cm)).plot()\n",
        "plt.show()"
      ]
    },
    {
      "cell_type": "markdown",
      "source": [
        "- Classification report"
      ],
      "metadata": {
        "id": "GObzu_QuzOO8"
      }
    },
    {
      "cell_type": "code",
      "execution_count": null,
      "metadata": {
        "colab": {
          "base_uri": "https://localhost:8080/"
        },
        "id": "3nVCL3e7-m0k",
        "outputId": "ca01cdd1-28ac-44c5-ed31-b6378e16f194"
      },
      "outputs": [
        {
          "output_type": "stream",
          "name": "stdout",
          "text": [
            "              precision    recall  f1-score   support\n",
            "\n",
            "           0       1.00      1.00      1.00   1906322\n",
            "           1       0.48      0.61      0.54      2464\n",
            "\n",
            "    accuracy                           1.00   1908786\n",
            "   macro avg       0.74      0.80      0.77   1908786\n",
            "weighted avg       1.00      1.00      1.00   1908786\n",
            "\n"
          ]
        }
      ],
      "source": [
        "print(classification_report(y_cm_test, y_pred_cm))"
      ]
    },
    {
      "cell_type": "markdown",
      "source": [
        "### **4.6.2. Gradient Boosting para os dados sem os Merchants**"
      ],
      "metadata": {
        "id": "hcx44WsIycDV"
      }
    },
    {
      "cell_type": "code",
      "source": [
        "# Ajuste do modelo\n",
        "model = HistGradientBoostingClassifier(random_state=0, learning_rate = 0.1)\n",
        "model.fit(X_sm_train,y_sm_train)\n",
        "y_pred_sm = model.predict(X_sm_test) "
      ],
      "metadata": {
        "id": "VZ2vd4JNxkfN"
      },
      "execution_count": null,
      "outputs": []
    },
    {
      "cell_type": "markdown",
      "source": [
        "- Matriz de confusão"
      ],
      "metadata": {
        "id": "ZXfPWWrrzTNR"
      }
    },
    {
      "cell_type": "code",
      "source": [
        "ConfusionMatrixDisplay(confusion_matrix = confusion_matrix(y_sm_test, y_pred_sm)).plot()\n",
        "plt.show()"
      ],
      "metadata": {
        "colab": {
          "base_uri": "https://localhost:8080/",
          "height": 290
        },
        "id": "hIw6uL0GxvFJ",
        "outputId": "781b7830-ec3a-4063-f4a0-fe13b2a19cd6"
      },
      "execution_count": null,
      "outputs": [
        {
          "output_type": "display_data",
          "data": {
            "text/plain": [
              "<Figure size 432x288 with 2 Axes>"
            ],
            "image/png": "[encoded data removed]"
          },
          "metadata": {
            "needs_background": "light"
          }
        }
      ]
    },
    {
      "cell_type": "markdown",
      "source": [
        "- Classification report"
      ],
      "metadata": {
        "id": "SsdC8IR2zVwY"
      }
    },
    {
      "cell_type": "code",
      "source": [
        "print(classification_report(y_sm_test, y_pred_sm))"
      ],
      "metadata": {
        "colab": {
          "base_uri": "https://localhost:8080/"
        },
        "id": "SArsAmwmyDvu",
        "outputId": "68959dd3-6701-49d1-b093-fe783f46014f"
      },
      "execution_count": null,
      "outputs": [
        {
          "output_type": "stream",
          "name": "stdout",
          "text": [
            "              precision    recall  f1-score   support\n",
            "\n",
            "           0       1.00      1.00      1.00   1260874\n",
            "           1       0.56      0.71      0.63      2464\n",
            "\n",
            "    accuracy                           1.00   1263338\n",
            "   macro avg       0.78      0.85      0.81   1263338\n",
            "weighted avg       1.00      1.00      1.00   1263338\n",
            "\n"
          ]
        }
      ]
    },
    {
      "cell_type": "markdown",
      "metadata": {
        "id": "5EEbkoZalKid"
      },
      "source": [
        "## **5. Resultados**"
      ]
    },
    {
      "cell_type": "markdown",
      "metadata": {
        "id": "4VV_R8MhlQN5"
      },
      "source": [
        "Dos classificadores analisados, obtivemos os seguintes resultados para *precision*, *recall* e *f1-score* para o caso de classificar corretamente os dados fraudulentos:\n",
        "\n",
        "\n",
        "- Dados com os merchants:\n",
        "\n",
        "                             precision    recall  f1-score\n",
        "        Naive Bayes \t     0.04      0.16      0.07\n",
        "        Regressão Logística  0.86      0.36      0.51\n",
        "        Árvore de Decisão    0.89      0.88      0.88\n",
        "        K-Vizinhos           0.79      0.87      0.83\n",
        "        Random Forest \t   0.91      0.88      0.89\n",
        "        Gradient Boosting    0.48      0.61      0.54\n",
        "    \n",
        "    \n",
        "    \n",
        "- Dados sem os merchants:\n",
        "\n",
        "                             precision    recall  f1-score\n",
        "        Naive Bayes \t     0.05      0.16      0.08\n",
        "        Regressão Logística  0.90      0.37      0.52\n",
        "        Árvore de Decisão    0.88      0.87      0.88\n",
        "        K-Vizinhos           0.79      0.87      0.83\n",
        "        Random Forest \t   0.90      0.88      0.89\n",
        "        Gradient Boosting    0.56      0.71      0.63\n",
        "    \n",
        "    \n",
        "Para o caso de classificar transações não fraudulentas, todos os classificadores apresentaram bons resultados devido a grande disponibilidade de dados neste formato.\n",
        "\n",
        "A partir das tabelas acima fica claro que o algoritmo *Random Forest* foi o que performou melhor dentre os classificadores analisados.\n",
        "\n",
        "Vemos ainda uma ligeira melhora nas análises feitas para os dados sem os merchants, o que indica que o volume destes dados que não contém informação relevante para o problema em questão não são significativos e podem ser desconsiderados para no treinamento do modelo."
      ]
    }
  ],
  "metadata": {
    "colab": {
      "provenance": [],
      "collapsed_sections": [
        "U7pbN-gc6Fxt",
        "DNWLAWnS6M6p"
      ],
      "toc_visible": true
    },
    "kernelspec": {
      "display_name": "Python 3",
      "name": "python3"
    },
    "language_info": {
      "name": "python"
    }
  },
  "nbformat": 4,
  "nbformat_minor": 0
}